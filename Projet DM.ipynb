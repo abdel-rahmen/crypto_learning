{
 "cells": [
  {
   "cell_type": "markdown",
   "metadata": {},
   "source": [
    "# Projet Data Mining"
   ]
  },
  {
   "cell_type": "code",
   "execution_count": 1,
   "metadata": {
    "scrolled": true
   },
   "outputs": [
    {
     "name": "stdout",
     "output_type": "stream",
     "text": [
      "Max length = 2760\n",
      "Max time = 2758 days 23:00:00\n"
     ]
    },
    {
     "data": {
      "image/png": "[encoded data removed]",
      "text/plain": [
       "<matplotlib.figure.Figure at 0x1ad5669a9b0>"
      ]
     },
     "metadata": {},
     "output_type": "display_data"
    },
    {
     "data": {
      "text/html": [
       "<div>\n",
       "<style>\n",
       "    .dataframe thead tr:only-child th {\n",
       "        text-align: right;\n",
       "    }\n",
       "\n",
       "    .dataframe thead th {\n",
       "        text-align: left;\n",
       "    }\n",
       "\n",
       "    .dataframe tbody tr th {\n",
       "        vertical-align: top;\n",
       "    }\n",
       "</style>\n",
       "<table border=\"1\" class=\"dataframe\">\n",
       "  <thead>\n",
       "    <tr style=\"text-align: right;\">\n",
       "      <th></th>\n",
       "      <th>close</th>\n",
       "      <th>high</th>\n",
       "      <th>low</th>\n",
       "      <th>open</th>\n",
       "      <th>time</th>\n",
       "      <th>volumefrom</th>\n",
       "      <th>volumeto</th>\n",
       "      <th>timestamp</th>\n",
       "    </tr>\n",
       "  </thead>\n",
       "  <tbody>\n",
       "    <tr>\n",
       "      <th>2755</th>\n",
       "      <td>10226.86</td>\n",
       "      <td>10377.96</td>\n",
       "      <td>9698.13</td>\n",
       "      <td>10107.40</td>\n",
       "      <td>1517356800</td>\n",
       "      <td>122260.49</td>\n",
       "      <td>1.230903e+09</td>\n",
       "      <td>2018-01-31</td>\n",
       "    </tr>\n",
       "    <tr>\n",
       "      <th>2756</th>\n",
       "      <td>9114.72</td>\n",
       "      <td>10280.84</td>\n",
       "      <td>8726.95</td>\n",
       "      <td>10226.86</td>\n",
       "      <td>1517443200</td>\n",
       "      <td>208918.80</td>\n",
       "      <td>1.964309e+09</td>\n",
       "      <td>2018-02-01</td>\n",
       "    </tr>\n",
       "    <tr>\n",
       "      <th>2757</th>\n",
       "      <td>8870.82</td>\n",
       "      <td>9147.93</td>\n",
       "      <td>7786.20</td>\n",
       "      <td>9114.73</td>\n",
       "      <td>1517529600</td>\n",
       "      <td>322596.22</td>\n",
       "      <td>2.768760e+09</td>\n",
       "      <td>2018-02-02</td>\n",
       "    </tr>\n",
       "    <tr>\n",
       "      <th>2758</th>\n",
       "      <td>9251.27</td>\n",
       "      <td>9504.37</td>\n",
       "      <td>8194.68</td>\n",
       "      <td>8872.87</td>\n",
       "      <td>1517616000</td>\n",
       "      <td>139226.07</td>\n",
       "      <td>1.253485e+09</td>\n",
       "      <td>2018-02-03</td>\n",
       "    </tr>\n",
       "    <tr>\n",
       "      <th>2759</th>\n",
       "      <td>8495.60</td>\n",
       "      <td>9400.99</td>\n",
       "      <td>8284.25</td>\n",
       "      <td>9251.27</td>\n",
       "      <td>1517702400</td>\n",
       "      <td>94322.67</td>\n",
       "      <td>8.358988e+08</td>\n",
       "      <td>2018-02-04</td>\n",
       "    </tr>\n",
       "  </tbody>\n",
       "</table>\n",
       "</div>"
      ],
      "text/plain": [
       "         close      high      low      open        time  volumefrom  \\\n",
       "2755  10226.86  10377.96  9698.13  10107.40  1517356800   122260.49   \n",
       "2756   9114.72  10280.84  8726.95  10226.86  1517443200   208918.80   \n",
       "2757   8870.82   9147.93  7786.20   9114.73  1517529600   322596.22   \n",
       "2758   9251.27   9504.37  8194.68   8872.87  1517616000   139226.07   \n",
       "2759   8495.60   9400.99  8284.25   9251.27  1517702400    94322.67   \n",
       "\n",
       "          volumeto   timestamp  \n",
       "2755  1.230903e+09  2018-01-31  \n",
       "2756  1.964309e+09  2018-02-01  \n",
       "2757  2.768760e+09  2018-02-02  \n",
       "2758  1.253485e+09  2018-02-03  \n",
       "2759  8.358988e+08  2018-02-04  "
      ]
     },
     "execution_count": 1,
     "metadata": {},
     "output_type": "execute_result"
    }
   ],
   "source": [
    "import requests\n",
    "import datetime\n",
    "import pandas as pd\n",
    "import numpy as np \n",
    "from matplotlib.pylab import rcParams\n",
    "import matplotlib.pyplot as plt\n",
    "from collections import Counter\n",
    "import copy\n",
    "from operator import itemgetter\n",
    "import seaborn as sns\n",
    "import warnings\n",
    "warnings.filterwarnings(\"ignore\")\n",
    "%matplotlib inline\n",
    "\n",
    "def daily_price_historical(symbol, comparison_symbol, histoday=True, limit=1, aggregate=1, allData='true'):\n",
    "    # api url\n",
    "    if histoday:\n",
    "        url = 'https://min-api.cryptocompare.com/data/histoday?fsym={}&tsym={}&limit={}&aggregate={}&allData={}' \\\n",
    "            .format(symbol.upper(), comparison_symbol.upper(), limit, aggregate, allData)\n",
    "    else:\n",
    "        url = 'https://min-api.cryptocompare.com/data/histohour?fsym={}&tsym={}&limit={}&aggregate={}&allData={}' \\\n",
    "            .format(symbol.upper(), comparison_symbol.upper(), limit, aggregate, allData)\n",
    "\n",
    "    # fetch data\n",
    "    page = requests.get(url)\n",
    "    data = page.json()['Data']\n",
    "\n",
    "    # Convert Json to Table\n",
    "    df = pd.DataFrame(data)\n",
    "\n",
    "    # add a column with timestamp\n",
    "    df['timestamp'] = [datetime.datetime.fromtimestamp(d) for d in df.time]\n",
    "\n",
    "    return df\n",
    "\n",
    "\n",
    "df = daily_price_historical('BTC', 'USD', True)\n",
    "print('Max length = {}'.format(len(df)))\n",
    "print('Max time = {}'.format((df.timestamp.max() - df.timestamp.min())))\n",
    "\n",
    "plt.plot(df.timestamp, df.close)\n",
    "plt.show()\n",
    "df['timestamp'] = df['timestamp'].dt.strftime('%Y-%m-%d')\n",
    "df.tail(5)"
   ]
  },
  {
   "cell_type": "code",
   "execution_count": 2,
   "metadata": {},
   "outputs": [
    {
     "data": {
      "text/html": [
       "<div>\n",
       "<style>\n",
       "    .dataframe thead tr:only-child th {\n",
       "        text-align: right;\n",
       "    }\n",
       "\n",
       "    .dataframe thead th {\n",
       "        text-align: left;\n",
       "    }\n",
       "\n",
       "    .dataframe tbody tr th {\n",
       "        vertical-align: top;\n",
       "    }\n",
       "</style>\n",
       "<table border=\"1\" class=\"dataframe\">\n",
       "  <thead>\n",
       "    <tr style=\"text-align: right;\">\n",
       "      <th></th>\n",
       "      <th>close</th>\n",
       "      <th>high</th>\n",
       "      <th>low</th>\n",
       "      <th>open</th>\n",
       "      <th>time</th>\n",
       "      <th>volumefrom</th>\n",
       "      <th>volumeto</th>\n",
       "    </tr>\n",
       "    <tr>\n",
       "      <th>timestamp</th>\n",
       "      <th></th>\n",
       "      <th></th>\n",
       "      <th></th>\n",
       "      <th></th>\n",
       "      <th></th>\n",
       "      <th></th>\n",
       "      <th></th>\n",
       "    </tr>\n",
       "  </thead>\n",
       "  <tbody>\n",
       "    <tr>\n",
       "      <th>2010-07-17</th>\n",
       "      <td>0.04951</td>\n",
       "      <td>0.04951</td>\n",
       "      <td>0.04951</td>\n",
       "      <td>0.04951</td>\n",
       "      <td>1279324800</td>\n",
       "      <td>20.00</td>\n",
       "      <td>0.9902</td>\n",
       "    </tr>\n",
       "    <tr>\n",
       "      <th>2010-07-18</th>\n",
       "      <td>0.08584</td>\n",
       "      <td>0.08585</td>\n",
       "      <td>0.05941</td>\n",
       "      <td>0.04951</td>\n",
       "      <td>1279411200</td>\n",
       "      <td>75.01</td>\n",
       "      <td>5.0900</td>\n",
       "    </tr>\n",
       "    <tr>\n",
       "      <th>2010-07-19</th>\n",
       "      <td>0.08080</td>\n",
       "      <td>0.09307</td>\n",
       "      <td>0.07723</td>\n",
       "      <td>0.08584</td>\n",
       "      <td>1279497600</td>\n",
       "      <td>574.00</td>\n",
       "      <td>49.6600</td>\n",
       "    </tr>\n",
       "    <tr>\n",
       "      <th>2010-07-20</th>\n",
       "      <td>0.07474</td>\n",
       "      <td>0.08181</td>\n",
       "      <td>0.07426</td>\n",
       "      <td>0.08080</td>\n",
       "      <td>1279584000</td>\n",
       "      <td>262.00</td>\n",
       "      <td>20.5900</td>\n",
       "    </tr>\n",
       "    <tr>\n",
       "      <th>2010-07-21</th>\n",
       "      <td>0.07921</td>\n",
       "      <td>0.07921</td>\n",
       "      <td>0.06634</td>\n",
       "      <td>0.07474</td>\n",
       "      <td>1279670400</td>\n",
       "      <td>575.00</td>\n",
       "      <td>42.2600</td>\n",
       "    </tr>\n",
       "    <tr>\n",
       "      <th>2010-07-22</th>\n",
       "      <td>0.05050</td>\n",
       "      <td>0.08181</td>\n",
       "      <td>0.05050</td>\n",
       "      <td>0.07921</td>\n",
       "      <td>1279756800</td>\n",
       "      <td>2160.00</td>\n",
       "      <td>129.7800</td>\n",
       "    </tr>\n",
       "    <tr>\n",
       "      <th>2010-07-23</th>\n",
       "      <td>0.06262</td>\n",
       "      <td>0.06767</td>\n",
       "      <td>0.05050</td>\n",
       "      <td>0.05050</td>\n",
       "      <td>1279843200</td>\n",
       "      <td>2402.50</td>\n",
       "      <td>141.0700</td>\n",
       "    </tr>\n",
       "  </tbody>\n",
       "</table>\n",
       "</div>"
      ],
      "text/plain": [
       "              close     high      low     open        time  volumefrom  \\\n",
       "timestamp                                                                \n",
       "2010-07-17  0.04951  0.04951  0.04951  0.04951  1279324800       20.00   \n",
       "2010-07-18  0.08584  0.08585  0.05941  0.04951  1279411200       75.01   \n",
       "2010-07-19  0.08080  0.09307  0.07723  0.08584  1279497600      574.00   \n",
       "2010-07-20  0.07474  0.08181  0.07426  0.08080  1279584000      262.00   \n",
       "2010-07-21  0.07921  0.07921  0.06634  0.07474  1279670400      575.00   \n",
       "2010-07-22  0.05050  0.08181  0.05050  0.07921  1279756800     2160.00   \n",
       "2010-07-23  0.06262  0.06767  0.05050  0.05050  1279843200     2402.50   \n",
       "\n",
       "            volumeto  \n",
       "timestamp             \n",
       "2010-07-17    0.9902  \n",
       "2010-07-18    5.0900  \n",
       "2010-07-19   49.6600  \n",
       "2010-07-20   20.5900  \n",
       "2010-07-21   42.2600  \n",
       "2010-07-22  129.7800  \n",
       "2010-07-23  141.0700  "
      ]
     },
     "execution_count": 2,
     "metadata": {},
     "output_type": "execute_result"
    }
   ],
   "source": [
    "df2 = df.set_index('timestamp')\n",
    "df2.head(7)"
   ]
  },
  {
   "cell_type": "code",
   "execution_count": 3,
   "metadata": {
    "collapsed": true
   },
   "outputs": [],
   "source": [
    "pa = pd.read_csv('crypto_learning/results.csv', usecols=[\"Date\",\"Value\"])\n",
    "pa['Date'] = [pd.datetime.strptime(d, '%Y-%m-%d %H:%M:%S') for d in pa.Date]\n",
    "pa = pa.set_index('Date')"
   ]
  },
  {
   "cell_type": "code",
   "execution_count": 4,
   "metadata": {},
   "outputs": [
    {
     "name": "stdout",
     "output_type": "stream",
     "text": [
      "18\n"
     ]
    },
    {
     "data": {
      "text/plain": [
       "[<matplotlib.lines.Line2D at 0x1ad56a8bda0>,\n",
       " <matplotlib.lines.Line2D at 0x1ad56c25a58>]"
      ]
     },
     "execution_count": 4,
     "metadata": {},
     "output_type": "execute_result"
    },
    {
     "data": {
      "image/png": "[encoded data removed]",
      "text/plain": [
       "<matplotlib.figure.Figure at 0x1ad526c9ac8>"
      ]
     },
     "metadata": {},
     "output_type": "display_data"
    }
   ],
   "source": [
    "rcParams['figure.figsize'] = 15, 6\n",
    "pa['mean'] = pa.rolling(window=5, center=True).mean()\n",
    "ts = pa['mean']\n",
    "\n",
    "print(np.count_nonzero(abs(ts-pa['Value'])>0.15))\n",
    "\n",
    "plt.plot(pa)"
   ]
  },
  {
   "cell_type": "markdown",
   "metadata": {},
   "source": [
    "### Création colonne buzz"
   ]
  },
  {
   "cell_type": "code",
   "execution_count": 5,
   "metadata": {
    "collapsed": true
   },
   "outputs": [],
   "source": [
    "pa['buzz']='c'\n",
    "pa['buzz'][(pa['Value']-ts)>0.15]='u'\n",
    "pa['buzz'][(pa['Value']-ts)<-0.15]='d'"
   ]
  },
  {
   "cell_type": "markdown",
   "metadata": {},
   "source": [
    "### Concaténation avec la première table"
   ]
  },
  {
   "cell_type": "code",
   "execution_count": 6,
   "metadata": {
    "collapsed": true
   },
   "outputs": [],
   "source": [
    "pa = pa.join(df2)"
   ]
  },
  {
   "cell_type": "code",
   "execution_count": 7,
   "metadata": {
    "collapsed": true
   },
   "outputs": [],
   "source": [
    "pa = pa[['open','close','buzz']]"
   ]
  },
  {
   "cell_type": "markdown",
   "metadata": {},
   "source": [
    "### Affichage des différents buzz/debuzz"
   ]
  },
  {
   "cell_type": "code",
   "execution_count": 8,
   "metadata": {},
   "outputs": [
    {
     "data": {
      "text/html": [
       "<div>\n",
       "<style>\n",
       "    .dataframe thead tr:only-child th {\n",
       "        text-align: right;\n",
       "    }\n",
       "\n",
       "    .dataframe thead th {\n",
       "        text-align: left;\n",
       "    }\n",
       "\n",
       "    .dataframe tbody tr th {\n",
       "        vertical-align: top;\n",
       "    }\n",
       "</style>\n",
       "<table border=\"1\" class=\"dataframe\">\n",
       "  <thead>\n",
       "    <tr style=\"text-align: right;\">\n",
       "      <th></th>\n",
       "      <th>open</th>\n",
       "      <th>close</th>\n",
       "      <th>buzz</th>\n",
       "    </tr>\n",
       "    <tr>\n",
       "      <th>Date</th>\n",
       "      <th></th>\n",
       "      <th></th>\n",
       "      <th></th>\n",
       "    </tr>\n",
       "  </thead>\n",
       "  <tbody>\n",
       "    <tr>\n",
       "      <th>2017-05-11</th>\n",
       "      <td>1752.31</td>\n",
       "      <td>1819.29</td>\n",
       "      <td>d</td>\n",
       "    </tr>\n",
       "    <tr>\n",
       "      <th>2017-05-13</th>\n",
       "      <td>1686.39</td>\n",
       "      <td>1763.74</td>\n",
       "      <td>u</td>\n",
       "    </tr>\n",
       "    <tr>\n",
       "      <th>2017-06-28</th>\n",
       "      <td>2583.75</td>\n",
       "      <td>2577.74</td>\n",
       "      <td>u</td>\n",
       "    </tr>\n",
       "    <tr>\n",
       "      <th>2017-11-29</th>\n",
       "      <td>9906.04</td>\n",
       "      <td>9837.86</td>\n",
       "      <td>u</td>\n",
       "    </tr>\n",
       "    <tr>\n",
       "      <th>2017-12-04</th>\n",
       "      <td>11244.20</td>\n",
       "      <td>11623.91</td>\n",
       "      <td>u</td>\n",
       "    </tr>\n",
       "    <tr>\n",
       "      <th>2017-12-05</th>\n",
       "      <td>11624.37</td>\n",
       "      <td>11667.13</td>\n",
       "      <td>d</td>\n",
       "    </tr>\n",
       "    <tr>\n",
       "      <th>2017-12-07</th>\n",
       "      <td>13750.09</td>\n",
       "      <td>16850.31</td>\n",
       "      <td>u</td>\n",
       "    </tr>\n",
       "    <tr>\n",
       "      <th>2017-12-08</th>\n",
       "      <td>16867.98</td>\n",
       "      <td>16047.61</td>\n",
       "      <td>u</td>\n",
       "    </tr>\n",
       "    <tr>\n",
       "      <th>2017-12-09</th>\n",
       "      <td>16048.18</td>\n",
       "      <td>14843.42</td>\n",
       "      <td>d</td>\n",
       "    </tr>\n",
       "    <tr>\n",
       "      <th>2017-12-10</th>\n",
       "      <td>14839.98</td>\n",
       "      <td>15059.60</td>\n",
       "      <td>d</td>\n",
       "    </tr>\n",
       "    <tr>\n",
       "      <th>2017-12-11</th>\n",
       "      <td>15060.45</td>\n",
       "      <td>16732.47</td>\n",
       "      <td>u</td>\n",
       "    </tr>\n",
       "    <tr>\n",
       "      <th>2017-12-15</th>\n",
       "      <td>16467.91</td>\n",
       "      <td>17604.85</td>\n",
       "      <td>u</td>\n",
       "    </tr>\n",
       "    <tr>\n",
       "      <th>2017-12-17</th>\n",
       "      <td>19346.60</td>\n",
       "      <td>19065.71</td>\n",
       "      <td>d</td>\n",
       "    </tr>\n",
       "    <tr>\n",
       "      <th>2017-12-22</th>\n",
       "      <td>15632.12</td>\n",
       "      <td>13664.97</td>\n",
       "      <td>u</td>\n",
       "    </tr>\n",
       "    <tr>\n",
       "      <th>2017-12-24</th>\n",
       "      <td>14396.63</td>\n",
       "      <td>13789.95</td>\n",
       "      <td>d</td>\n",
       "    </tr>\n",
       "    <tr>\n",
       "      <th>2018-01-11</th>\n",
       "      <td>14920.36</td>\n",
       "      <td>13308.06</td>\n",
       "      <td>u</td>\n",
       "    </tr>\n",
       "    <tr>\n",
       "      <th>2018-01-14</th>\n",
       "      <td>14244.12</td>\n",
       "      <td>13638.63</td>\n",
       "      <td>d</td>\n",
       "    </tr>\n",
       "    <tr>\n",
       "      <th>2018-01-17</th>\n",
       "      <td>11282.49</td>\n",
       "      <td>11162.70</td>\n",
       "      <td>u</td>\n",
       "    </tr>\n",
       "  </tbody>\n",
       "</table>\n",
       "</div>"
      ],
      "text/plain": [
       "                open     close buzz\n",
       "Date                               \n",
       "2017-05-11   1752.31   1819.29    d\n",
       "2017-05-13   1686.39   1763.74    u\n",
       "2017-06-28   2583.75   2577.74    u\n",
       "2017-11-29   9906.04   9837.86    u\n",
       "2017-12-04  11244.20  11623.91    u\n",
       "2017-12-05  11624.37  11667.13    d\n",
       "2017-12-07  13750.09  16850.31    u\n",
       "2017-12-08  16867.98  16047.61    u\n",
       "2017-12-09  16048.18  14843.42    d\n",
       "2017-12-10  14839.98  15059.60    d\n",
       "2017-12-11  15060.45  16732.47    u\n",
       "2017-12-15  16467.91  17604.85    u\n",
       "2017-12-17  19346.60  19065.71    d\n",
       "2017-12-22  15632.12  13664.97    u\n",
       "2017-12-24  14396.63  13789.95    d\n",
       "2018-01-11  14920.36  13308.06    u\n",
       "2018-01-14  14244.12  13638.63    d\n",
       "2018-01-17  11282.49  11162.70    u"
      ]
     },
     "execution_count": 8,
     "metadata": {},
     "output_type": "execute_result"
    }
   ],
   "source": [
    "pa[pa['buzz']!='c']"
   ]
  },
  {
   "cell_type": "markdown",
   "metadata": {},
   "source": [
    "### Création de la variable d'ecart"
   ]
  },
  {
   "cell_type": "code",
   "execution_count": 9,
   "metadata": {
    "collapsed": true
   },
   "outputs": [],
   "source": [
    "pa['ecart'] = pa['close']-pa['open']"
   ]
  },
  {
   "cell_type": "code",
   "execution_count": 10,
   "metadata": {
    "scrolled": true
   },
   "outputs": [
    {
     "data": {
      "text/html": [
       "<div>\n",
       "<style>\n",
       "    .dataframe thead tr:only-child th {\n",
       "        text-align: right;\n",
       "    }\n",
       "\n",
       "    .dataframe thead th {\n",
       "        text-align: left;\n",
       "    }\n",
       "\n",
       "    .dataframe tbody tr th {\n",
       "        vertical-align: top;\n",
       "    }\n",
       "</style>\n",
       "<table border=\"1\" class=\"dataframe\">\n",
       "  <thead>\n",
       "    <tr style=\"text-align: right;\">\n",
       "      <th></th>\n",
       "      <th>open</th>\n",
       "      <th>close</th>\n",
       "      <th>buzz</th>\n",
       "      <th>ecart</th>\n",
       "      <th>variation</th>\n",
       "    </tr>\n",
       "    <tr>\n",
       "      <th>Date</th>\n",
       "      <th></th>\n",
       "      <th></th>\n",
       "      <th></th>\n",
       "      <th></th>\n",
       "      <th></th>\n",
       "    </tr>\n",
       "  </thead>\n",
       "  <tbody>\n",
       "    <tr>\n",
       "      <th>2017-06-12</th>\n",
       "      <td>2973.45</td>\n",
       "      <td>2656.77</td>\n",
       "      <td>c</td>\n",
       "      <td>-316.68</td>\n",
       "      <td>-2</td>\n",
       "    </tr>\n",
       "    <tr>\n",
       "      <th>2017-07-15</th>\n",
       "      <td>2234.17</td>\n",
       "      <td>1975.08</td>\n",
       "      <td>c</td>\n",
       "      <td>-259.09</td>\n",
       "      <td>-2</td>\n",
       "    </tr>\n",
       "    <tr>\n",
       "      <th>2017-07-17</th>\n",
       "      <td>1914.09</td>\n",
       "      <td>2233.39</td>\n",
       "      <td>c</td>\n",
       "      <td>319.30</td>\n",
       "      <td>2</td>\n",
       "    </tr>\n",
       "    <tr>\n",
       "      <th>2017-07-20</th>\n",
       "      <td>2282.58</td>\n",
       "      <td>2866.02</td>\n",
       "      <td>c</td>\n",
       "      <td>583.44</td>\n",
       "      <td>2</td>\n",
       "    </tr>\n",
       "    <tr>\n",
       "      <th>2017-08-05</th>\n",
       "      <td>2878.49</td>\n",
       "      <td>3262.80</td>\n",
       "      <td>c</td>\n",
       "      <td>384.31</td>\n",
       "      <td>2</td>\n",
       "    </tr>\n",
       "    <tr>\n",
       "      <th>2017-09-14</th>\n",
       "      <td>3870.29</td>\n",
       "      <td>3243.08</td>\n",
       "      <td>c</td>\n",
       "      <td>-627.21</td>\n",
       "      <td>-2</td>\n",
       "    </tr>\n",
       "    <tr>\n",
       "      <th>2017-09-15</th>\n",
       "      <td>3243.08</td>\n",
       "      <td>3713.76</td>\n",
       "      <td>c</td>\n",
       "      <td>470.68</td>\n",
       "      <td>2</td>\n",
       "    </tr>\n",
       "    <tr>\n",
       "      <th>2017-09-18</th>\n",
       "      <td>3689.61</td>\n",
       "      <td>4100.28</td>\n",
       "      <td>c</td>\n",
       "      <td>410.67</td>\n",
       "      <td>2</td>\n",
       "    </tr>\n",
       "    <tr>\n",
       "      <th>2017-10-12</th>\n",
       "      <td>4824.20</td>\n",
       "      <td>5432.62</td>\n",
       "      <td>c</td>\n",
       "      <td>608.42</td>\n",
       "      <td>2</td>\n",
       "    </tr>\n",
       "    <tr>\n",
       "      <th>2017-11-13</th>\n",
       "      <td>5878.09</td>\n",
       "      <td>6522.45</td>\n",
       "      <td>c</td>\n",
       "      <td>644.36</td>\n",
       "      <td>2</td>\n",
       "    </tr>\n",
       "    <tr>\n",
       "      <th>2017-11-15</th>\n",
       "      <td>6597.06</td>\n",
       "      <td>7283.22</td>\n",
       "      <td>c</td>\n",
       "      <td>686.16</td>\n",
       "      <td>2</td>\n",
       "    </tr>\n",
       "    <tr>\n",
       "      <th>2017-12-06</th>\n",
       "      <td>11667.13</td>\n",
       "      <td>13749.57</td>\n",
       "      <td>c</td>\n",
       "      <td>2082.44</td>\n",
       "      <td>2</td>\n",
       "    </tr>\n",
       "    <tr>\n",
       "      <th>2017-12-07</th>\n",
       "      <td>13750.09</td>\n",
       "      <td>16850.31</td>\n",
       "      <td>u</td>\n",
       "      <td>3100.22</td>\n",
       "      <td>2</td>\n",
       "    </tr>\n",
       "    <tr>\n",
       "      <th>2017-12-11</th>\n",
       "      <td>15060.45</td>\n",
       "      <td>16732.47</td>\n",
       "      <td>u</td>\n",
       "      <td>1672.02</td>\n",
       "      <td>2</td>\n",
       "    </tr>\n",
       "    <tr>\n",
       "      <th>2017-12-22</th>\n",
       "      <td>15632.12</td>\n",
       "      <td>13664.97</td>\n",
       "      <td>u</td>\n",
       "      <td>-1967.15</td>\n",
       "      <td>-2</td>\n",
       "    </tr>\n",
       "    <tr>\n",
       "      <th>2017-12-26</th>\n",
       "      <td>13830.19</td>\n",
       "      <td>15756.56</td>\n",
       "      <td>c</td>\n",
       "      <td>1926.37</td>\n",
       "      <td>2</td>\n",
       "    </tr>\n",
       "    <tr>\n",
       "      <th>2017-12-30</th>\n",
       "      <td>14392.14</td>\n",
       "      <td>12531.52</td>\n",
       "      <td>c</td>\n",
       "      <td>-1860.62</td>\n",
       "      <td>-2</td>\n",
       "    </tr>\n",
       "    <tr>\n",
       "      <th>2017-12-31</th>\n",
       "      <td>12532.38</td>\n",
       "      <td>13850.40</td>\n",
       "      <td>c</td>\n",
       "      <td>1318.02</td>\n",
       "      <td>2</td>\n",
       "    </tr>\n",
       "    <tr>\n",
       "      <th>2018-01-05</th>\n",
       "      <td>15180.08</td>\n",
       "      <td>16954.78</td>\n",
       "      <td>c</td>\n",
       "      <td>1774.70</td>\n",
       "      <td>2</td>\n",
       "    </tr>\n",
       "    <tr>\n",
       "      <th>2018-01-11</th>\n",
       "      <td>14920.36</td>\n",
       "      <td>13308.06</td>\n",
       "      <td>u</td>\n",
       "      <td>-1612.30</td>\n",
       "      <td>-2</td>\n",
       "    </tr>\n",
       "    <tr>\n",
       "      <th>2018-01-16</th>\n",
       "      <td>13634.60</td>\n",
       "      <td>11282.49</td>\n",
       "      <td>c</td>\n",
       "      <td>-2352.11</td>\n",
       "      <td>-2</td>\n",
       "    </tr>\n",
       "    <tr>\n",
       "      <th>2018-01-20</th>\n",
       "      <td>11521.82</td>\n",
       "      <td>12783.94</td>\n",
       "      <td>c</td>\n",
       "      <td>1262.12</td>\n",
       "      <td>2</td>\n",
       "    </tr>\n",
       "  </tbody>\n",
       "</table>\n",
       "</div>"
      ],
      "text/plain": [
       "                open     close buzz    ecart  variation\n",
       "Date                                                   \n",
       "2017-06-12   2973.45   2656.77    c  -316.68         -2\n",
       "2017-07-15   2234.17   1975.08    c  -259.09         -2\n",
       "2017-07-17   1914.09   2233.39    c   319.30          2\n",
       "2017-07-20   2282.58   2866.02    c   583.44          2\n",
       "2017-08-05   2878.49   3262.80    c   384.31          2\n",
       "2017-09-14   3870.29   3243.08    c  -627.21         -2\n",
       "2017-09-15   3243.08   3713.76    c   470.68          2\n",
       "2017-09-18   3689.61   4100.28    c   410.67          2\n",
       "2017-10-12   4824.20   5432.62    c   608.42          2\n",
       "2017-11-13   5878.09   6522.45    c   644.36          2\n",
       "2017-11-15   6597.06   7283.22    c   686.16          2\n",
       "2017-12-06  11667.13  13749.57    c  2082.44          2\n",
       "2017-12-07  13750.09  16850.31    u  3100.22          2\n",
       "2017-12-11  15060.45  16732.47    u  1672.02          2\n",
       "2017-12-22  15632.12  13664.97    u -1967.15         -2\n",
       "2017-12-26  13830.19  15756.56    c  1926.37          2\n",
       "2017-12-30  14392.14  12531.52    c -1860.62         -2\n",
       "2017-12-31  12532.38  13850.40    c  1318.02          2\n",
       "2018-01-05  15180.08  16954.78    c  1774.70          2\n",
       "2018-01-11  14920.36  13308.06    u -1612.30         -2\n",
       "2018-01-16  13634.60  11282.49    c -2352.11         -2\n",
       "2018-01-20  11521.82  12783.94    c  1262.12          2"
      ]
     },
     "execution_count": 10,
     "metadata": {},
     "output_type": "execute_result"
    }
   ],
   "source": [
    "epsilon1 = 0.005\n",
    "epsilon2 = 0.1"
   ]
  },
  {
   "cell_type": "code",
   "execution_count": 78,
   "metadata": {},
   "outputs": [],
   "source": [
    "def variation(epsilon1,epsilon2,epsilon3=False):\n",
    "    pa['variation'] = 0\n",
    "    pa['variation'][(pa['ecart']>pa['open']*epsilon1) & (pa['ecart']<pa['open']*epsilon2)] = 1\n",
    "    pa['variation'][(pa['ecart']<-pa['open']*epsilon1) & (pa['ecart']>-pa['open']*epsilon2)] = -1\n",
    "    if not epsilon3 :\n",
    "        pa['variation'][pa['ecart'] < -pa['open']*epsilon2] = -2\n",
    "        pa['variation'][pa['ecart'] > pa['open']*epsilon2] = 2\n",
    "    else :\n",
    "        pa['variation'][(pa['ecart']>pa['open']*epsilon2) & (pa['ecart']<pa['open']*epsilon3)] = 2\n",
    "        pa['variation'][(pa['ecart']<-pa['open']*epsilon2) & (pa['ecart']>-pa['open']*epsilon3)] = -2\n",
    "        pa['variation'][pa['ecart'] < -pa['open']*epsilon3] = -3\n",
    "        pa['variation'][pa['ecart'] > pa['open']*epsilon3] = 3"
   ]
  },
  {
   "cell_type": "code",
   "execution_count": 79,
   "metadata": {
    "collapsed": true
   },
   "outputs": [],
   "source": [
    "variation(0.005,0.05,0.1)"
   ]
  },
  {
   "cell_type": "code",
   "execution_count": 83,
   "metadata": {},
   "outputs": [
    {
     "data": {
      "text/html": [
       "<div>\n",
       "<style>\n",
       "    .dataframe thead tr:only-child th {\n",
       "        text-align: right;\n",
       "    }\n",
       "\n",
       "    .dataframe thead th {\n",
       "        text-align: left;\n",
       "    }\n",
       "\n",
       "    .dataframe tbody tr th {\n",
       "        vertical-align: top;\n",
       "    }\n",
       "</style>\n",
       "<table border=\"1\" class=\"dataframe\">\n",
       "  <thead>\n",
       "    <tr style=\"text-align: right;\">\n",
       "      <th></th>\n",
       "      <th>open</th>\n",
       "      <th>close</th>\n",
       "      <th>buzz</th>\n",
       "      <th>ecart</th>\n",
       "      <th>variation</th>\n",
       "    </tr>\n",
       "    <tr>\n",
       "      <th>Date</th>\n",
       "      <th></th>\n",
       "      <th></th>\n",
       "      <th></th>\n",
       "      <th></th>\n",
       "      <th></th>\n",
       "    </tr>\n",
       "  </thead>\n",
       "  <tbody>\n",
       "    <tr>\n",
       "      <th>2017-02-09</th>\n",
       "      <td>1055.49</td>\n",
       "      <td>978.96</td>\n",
       "      <td>c</td>\n",
       "      <td>-76.53</td>\n",
       "      <td>-2</td>\n",
       "    </tr>\n",
       "    <tr>\n",
       "      <th>2017-03-08</th>\n",
       "      <td>1232.69</td>\n",
       "      <td>1146.97</td>\n",
       "      <td>c</td>\n",
       "      <td>-85.72</td>\n",
       "      <td>-2</td>\n",
       "    </tr>\n",
       "    <tr>\n",
       "      <th>2017-03-10</th>\n",
       "      <td>1191.33</td>\n",
       "      <td>1112.39</td>\n",
       "      <td>c</td>\n",
       "      <td>-78.94</td>\n",
       "      <td>-2</td>\n",
       "    </tr>\n",
       "    <tr>\n",
       "      <th>2017-03-11</th>\n",
       "      <td>1112.39</td>\n",
       "      <td>1179.22</td>\n",
       "      <td>c</td>\n",
       "      <td>66.83</td>\n",
       "      <td>2</td>\n",
       "    </tr>\n",
       "    <tr>\n",
       "      <th>2017-03-16</th>\n",
       "      <td>1253.43</td>\n",
       "      <td>1172.88</td>\n",
       "      <td>c</td>\n",
       "      <td>-80.55</td>\n",
       "      <td>-2</td>\n",
       "    </tr>\n",
       "    <tr>\n",
       "      <th>2017-03-17</th>\n",
       "      <td>1172.88</td>\n",
       "      <td>1071.71</td>\n",
       "      <td>c</td>\n",
       "      <td>-101.17</td>\n",
       "      <td>-2</td>\n",
       "    </tr>\n",
       "    <tr>\n",
       "      <th>2017-03-18</th>\n",
       "      <td>1071.71</td>\n",
       "      <td>971.38</td>\n",
       "      <td>c</td>\n",
       "      <td>-100.33</td>\n",
       "      <td>-2</td>\n",
       "    </tr>\n",
       "    <tr>\n",
       "      <th>2017-03-19</th>\n",
       "      <td>971.38</td>\n",
       "      <td>1022.60</td>\n",
       "      <td>c</td>\n",
       "      <td>51.22</td>\n",
       "      <td>2</td>\n",
       "    </tr>\n",
       "    <tr>\n",
       "      <th>2017-03-21</th>\n",
       "      <td>1047.51</td>\n",
       "      <td>1121.29</td>\n",
       "      <td>c</td>\n",
       "      <td>73.78</td>\n",
       "      <td>2</td>\n",
       "    </tr>\n",
       "    <tr>\n",
       "      <th>2017-03-22</th>\n",
       "      <td>1121.29</td>\n",
       "      <td>1044.72</td>\n",
       "      <td>c</td>\n",
       "      <td>-76.57</td>\n",
       "      <td>-2</td>\n",
       "    </tr>\n",
       "  </tbody>\n",
       "</table>\n",
       "</div>"
      ],
      "text/plain": [
       "               open    close buzz   ecart  variation\n",
       "Date                                                \n",
       "2017-02-09  1055.49   978.96    c  -76.53         -2\n",
       "2017-03-08  1232.69  1146.97    c  -85.72         -2\n",
       "2017-03-10  1191.33  1112.39    c  -78.94         -2\n",
       "2017-03-11  1112.39  1179.22    c   66.83          2\n",
       "2017-03-16  1253.43  1172.88    c  -80.55         -2\n",
       "2017-03-17  1172.88  1071.71    c -101.17         -2\n",
       "2017-03-18  1071.71   971.38    c -100.33         -2\n",
       "2017-03-19   971.38  1022.60    c   51.22          2\n",
       "2017-03-21  1047.51  1121.29    c   73.78          2\n",
       "2017-03-22  1121.29  1044.72    c  -76.57         -2"
      ]
     },
     "execution_count": 83,
     "metadata": {},
     "output_type": "execute_result"
    }
   ],
   "source": [
    "pa[abs(pa['variation'])>1].head(10)"
   ]
  },
  {
   "cell_type": "code",
   "execution_count": 11,
   "metadata": {},
   "outputs": [
    {
     "name": "stdout",
     "output_type": "stream",
     "text": [
      "7\n",
      "112\n",
      "51\n",
      "173\n",
      "15\n"
     ]
    }
   ],
   "source": [
    "print(sum(pa['variation']==-2))\n",
    "print(sum(pa['variation']==-1))\n",
    "print(sum(pa['variation']==0))\n",
    "print(sum(pa['variation']==1))\n",
    "print(sum(pa['variation']==2))"
   ]
  },
  {
   "cell_type": "markdown",
   "metadata": {},
   "source": [
    "### Fonctions de création des séquences"
   ]
  },
  {
   "cell_type": "code",
   "execution_count": 73,
   "metadata": {},
   "outputs": [],
   "source": [
    "def sequences(distance_buzz, liste_variation, liste_buzz) :\n",
    "    seq1 = [liste_variation[i-distance_buzz:(i+distance_buzz+1)] \n",
    "            for i in range(len(liste_variation[:-(distance_buzz-1)])) \n",
    "            if abs(liste_variation[i])==2]\n",
    "    seq1 = [list(map(str,s)) for s in seq1]\n",
    "    \n",
    "    seq2 = [liste_buzz[i-distance_buzz:(i+distance_buzz+1)] \n",
    "            for i in range(len(liste_variation[:-(distance_buzz-1)])) \n",
    "            if abs(liste_variation[i])==2]\n",
    "    \n",
    "    zipped_list = [list(zip(seq1[i], seq2[i])) for i in range(len(seq1))]\n",
    "    zipped_list2 = [[list(a[i]) for i in range(len(a))] for a in zipped_list]\n",
    "    result = [[t  if (t[1]!='c') else [t[0]] for t in s] for s in zipped_list2]\n",
    "    return result"
   ]
  },
  {
   "cell_type": "code",
   "execution_count": 56,
   "metadata": {},
   "outputs": [
    {
     "data": {
      "text/plain": [
       "[0, 33, 2, 33, 4]"
      ]
     },
     "execution_count": 56,
     "metadata": {},
     "output_type": "execute_result"
    }
   ],
   "source": [
    "[i  if (i%2==0) else 33 for i in range(5)]\n",
    "[]"
   ]
  },
  {
   "cell_type": "code",
   "execution_count": 74,
   "metadata": {},
   "outputs": [
    {
     "data": {
      "text/plain": [
       "[[['0'], ['1'], ['1'], ['-2'], ['1'], ['-1'], ['-1']],\n",
       " [['1'], ['-1'], ['-1'], ['-2'], ['-1'], ['2'], ['1']],\n",
       " [['-1'], ['-2'], ['-1'], ['2'], ['1'], ['-1'], ['2']],\n",
       " [['2'], ['1'], ['-1'], ['2'], ['-1'], ['1'], ['-1']],\n",
       " [['-1'], ['1'], ['1'], ['2'], ['-1'], ['1'], ['1']],\n",
       " [['-1'], ['-1'], ['-1'], ['-2'], ['2'], ['0'], ['0']],\n",
       " [['-1'], ['-1'], ['-2'], ['2'], ['0'], ['0'], ['2']],\n",
       " [['2'], ['0'], ['0'], ['2'], ['-1'], ['-1'], ['-1']],\n",
       " [['1'], ['0'], ['1'], ['2'], ['1'], ['1'], ['-1']],\n",
       " [['-1'], ['-1'], ['-1'], ['2'], ['1'], ['2'], ['1']],\n",
       " [['-1'], ['2'], ['1'], ['2'], ['1'], ['-1'], ['1']],\n",
       " [['1'], ['1', 'u'], ['0', 'd'], ['2'], ['2', 'u'], ['-1', 'u'], ['-1', 'd']],\n",
       " [['1', 'u'],\n",
       "  ['0', 'd'],\n",
       "  ['2'],\n",
       "  ['2', 'u'],\n",
       "  ['-1', 'u'],\n",
       "  ['-1', 'd'],\n",
       "  ['1', 'd']],\n",
       " [['-1', 'u'], ['-1', 'd'], ['1', 'd'], ['2', 'u'], ['1'], ['-1'], ['1']],\n",
       " [['-1'], ['-1'], ['-1'], ['-2', 'u'], ['1'], ['-1', 'd'], ['0']],\n",
       " [['1'], ['-1', 'd'], ['0'], ['2'], ['-1'], ['-1'], ['0']],\n",
       " [['-1'], ['-1'], ['0'], ['-2'], ['2'], ['-1'], ['1']],\n",
       " [['-1'], ['0'], ['-2'], ['2'], ['-1'], ['1'], ['1']],\n",
       " [['1'], ['1'], ['0'], ['2'], ['1'], ['-1'], ['-1']],\n",
       " [['-1'], ['-1'], ['1'], ['-2', 'u'], ['1'], ['1'], ['-1', 'd']],\n",
       " [['1'], ['-1', 'd'], ['0'], ['-2'], ['-1', 'u'], ['0'], ['1']],\n",
       " [['-1', 'u'], ['0'], ['1'], ['2'], ['-1'], ['-1'], ['0']]]"
      ]
     },
     "execution_count": 74,
     "metadata": {},
     "output_type": "execute_result"
    }
   ],
   "source": [
    "test_seq = sequences(3,pa['variation'].tolist(),pa['buzz'].tolist())\n",
    "test_seq"
   ]
  },
  {
   "cell_type": "code",
   "execution_count": 14,
   "metadata": {},
   "outputs": [
    {
     "data": {
      "text/plain": [
       "str"
      ]
     },
     "execution_count": 14,
     "metadata": {},
     "output_type": "execute_result"
    }
   ],
   "source": [
    "type(test_seq[0][0][0])"
   ]
  },
  {
   "cell_type": "code",
   "execution_count": 15,
   "metadata": {
    "collapsed": true
   },
   "outputs": [],
   "source": [
    "def sequ_buzz(taille):\n",
    "    tab = [[pa['variation'].loc[idx],pa['buzz'].loc[idx]] for idx in pa.index]\n",
    "    return sequences(taille,tab)"
   ]
  },
  {
   "cell_type": "markdown",
   "metadata": {},
   "source": [
    "#### On écrit la fonction isSubSeq qui renvoie si la séquence sub est sub-séquence de la séquence seq."
   ]
  },
  {
   "cell_type": "markdown",
   "metadata": {},
   "source": [
    "### Fonction de test isSubSeq"
   ]
  },
  {
   "cell_type": "code",
   "execution_count": 16,
   "metadata": {
    "collapsed": true
   },
   "outputs": [],
   "source": [
    "def isSubSeq(seq,sub) :\n",
    "    newsub = list(sub)\n",
    "    return(SubSeq(seq,newsub))"
   ]
  },
  {
   "cell_type": "markdown",
   "metadata": {},
   "source": [
    "#### On recherche de manière récursive chaque élément de la sous-séquence dans la séquence principale, tout en avançant dans cette dernière sans retour en arrière. Tant que l'on trouve les éléments on continue la recherche. Si il n'y a plus d'éléments à rechercher, c'est bon et on remonte les appels en renvoyant des True. Si l'un des éléments de la sous-séquence potentielle n'a pas été trouvé, False est renvoyé."
   ]
  },
  {
   "cell_type": "code",
   "execution_count": 17,
   "metadata": {},
   "outputs": [],
   "source": [
    "def SubSeq(seq,newsub,level=0) :\n",
    "    if(not newsub):\n",
    "        return True\n",
    "    first = set(newsub.pop(0))\n",
    "    for i in range(level,len(seq)) :\n",
    "        if set(seq[i]).issuperset(first) : \n",
    "            return SubSeq(seq,newsub,i+1)\n",
    "    return False"
   ]
  },
  {
   "cell_type": "code",
   "execution_count": 18,
   "metadata": {},
   "outputs": [
    {
     "name": "stdout",
     "output_type": "stream",
     "text": [
      "False\n"
     ]
    },
    {
     "data": {
      "text/plain": [
       "True"
      ]
     },
     "execution_count": 18,
     "metadata": {},
     "output_type": "execute_result"
    }
   ],
   "source": [
    "test=[['a'],['b','c'],['a']]\n",
    "test2=[['c'],['b']]\n",
    "test3=[['a'],['c']]\n",
    "print(isSubSeq(test,test2))\n",
    "isSubSeq(test,test3)"
   ]
  },
  {
   "cell_type": "markdown",
   "metadata": {},
   "source": [
    "#### fonction de calcul du  support d'une séquence"
   ]
  },
  {
   "cell_type": "code",
   "execution_count": 19,
   "metadata": {
    "collapsed": true
   },
   "outputs": [],
   "source": [
    "def support(dict,tested_seq) :\n",
    "    return sum(1 for seq in dict if isSubSeq(seq,tested_seq)) "
   ]
  },
  {
   "cell_type": "code",
   "execution_count": 20,
   "metadata": {},
   "outputs": [
    {
     "data": {
      "text/plain": [
       "2"
      ]
     },
     "execution_count": 20,
     "metadata": {},
     "output_type": "execute_result"
    }
   ],
   "source": [
    "datatest = [test,test2,test3]\n",
    "support(datatest,['a','c'])"
   ]
  },
  {
   "cell_type": "markdown",
   "metadata": {},
   "source": [
    "## fonction get_cand"
   ]
  },
  {
   "cell_type": "markdown",
   "metadata": {},
   "source": [
    "### Premiere fonction de création de candidats de taille k à partir de deux seq de taille k-1"
   ]
  },
  {
   "cell_type": "markdown",
   "metadata": {},
   "source": [
    "#### Version qui concatène les éléments en bout de séquence :"
   ]
  },
  {
   "cell_type": "code",
   "execution_count": 21,
   "metadata": {
    "collapsed": true
   },
   "outputs": [],
   "source": [
    "def generateCandidatesForPair(cand1, cand2):\n",
    "    cand1Clone = copy.deepcopy(cand1)\n",
    "    cand2Clone = copy.deepcopy(cand2)\n",
    "    # drop the leftmost item from cand1:\n",
    "    if (len (cand1[0]) == 1):\n",
    "        cand1Clone.pop(0)\n",
    "    else:\n",
    "        cand1Clone[0] = cand1Clone[0][1:]\n",
    "    # drop the rightmost item from cand2:\n",
    "    if (len (cand2[-1]) == 1):\n",
    "        cand2Clone.pop(-1)\n",
    "    else:\n",
    "        cand2Clone[-1] = cand2Clone[-1][:-1]\n",
    "    \n",
    "    # if the result is not the same, then we dont need to join\n",
    "    if not cand1Clone == cand2Clone:\n",
    "        return []\n",
    "    else:\n",
    "        newCandidate = copy.deepcopy(cand1)\n",
    "        if (len (cand2[-1]) == 1):\n",
    "            newCandidate.append(cand2[-1])\n",
    "        else:\n",
    "            newCandidate[-1].extend(cand2[-1][-1])\n",
    "        return newCandidate"
   ]
  },
  {
   "cell_type": "code",
   "execution_count": 22,
   "metadata": {
    "collapsed": true
   },
   "outputs": [],
   "source": [
    "def sequenceLength(sequence) : \n",
    "    return sum(len(seq) for seq in sequence)"
   ]
  },
  {
   "cell_type": "markdown",
   "metadata": {
    "collapsed": true
   },
   "source": [
    "#### on génère les candidats avec "
   ]
  },
  {
   "cell_type": "code",
   "execution_count": 23,
   "metadata": {
    "collapsed": true
   },
   "outputs": [],
   "source": [
    "def generateCandidates(lastLevelCandidates,focus_val):\n",
    "    k = sequenceLength(lastLevelCandidates[0]) + 1\n",
    "    if (k == 2):\n",
    "        flatShortCandidates = [item for sublist2 in lastLevelCandidates for sublist1 in sublist2 for item in sublist1]\n",
    "        candidates = [[[a, b]] for a in flatShortCandidates for b in flatShortCandidates if( b > a and (a in focus_val or b in focus_val))]\n",
    "    else:\n",
    "        candidates = []\n",
    "    for i in range(0, len(lastLevelCandidates)):\n",
    "        for j in range(0, len(lastLevelCandidates)):\n",
    "            newCand = generateCandidatesForPair(lastLevelCandidates[i], lastLevelCandidates[j])\n",
    "            if (not newCand == [] and (True in [ (i in t) for i in focus_val for t in newCand])):\n",
    "                candidates.append(newCand)\n",
    "    candidates.sort()\n",
    "    return candidates"
   ]
  },
  {
   "cell_type": "code",
   "execution_count": 24,
   "metadata": {},
   "outputs": [
    {
     "data": {
      "text/plain": [
       "[0, 0, 1, 2, 2, 4, 3, 6, 4, 8]"
      ]
     },
     "execution_count": 24,
     "metadata": {},
     "output_type": "execute_result"
    }
   ],
   "source": [
    "a = range(5)\n",
    "b = range(1,3)\n",
    "[i*j for i in a for j in b]"
   ]
  },
  {
   "cell_type": "code",
   "execution_count": 25,
   "metadata": {},
   "outputs": [
    {
     "name": "stdout",
     "output_type": "stream",
     "text": [
      "[[['a'], ['a']], [['a'], ['b']], [['a'], ['c']], [['a'], ['d']], [['a', 'b']], [['a', 'c']], [['a', 'd']], [['b'], ['a']], [['c'], ['a']], [['d'], ['a']]]\n"
     ]
    }
   ],
   "source": [
    "level_test = [[['a']],[['b']],[['c']],[['d']]]\n",
    "level_test_2 = generateCandidates(level_test,'a')\n",
    "print(level_test_2)"
   ]
  },
  {
   "cell_type": "code",
   "execution_count": 26,
   "metadata": {},
   "outputs": [
    {
     "data": {
      "text/plain": [
       "[[['a'], ['a'], ['a']],\n",
       " [['a'], ['a'], ['b']],\n",
       " [['a'], ['a'], ['c']],\n",
       " [['a'], ['a'], ['d']],\n",
       " [['a'], ['a', 'b']],\n",
       " [['a'], ['a', 'c']],\n",
       " [['a'], ['a', 'd']],\n",
       " [['a'], ['b'], ['a']],\n",
       " [['a'], ['c'], ['a']],\n",
       " [['a'], ['d'], ['a']],\n",
       " [['a', 'b'], ['a']],\n",
       " [['a', 'c'], ['a']],\n",
       " [['a', 'd'], ['a']],\n",
       " [['b'], ['a'], ['a']],\n",
       " [['b'], ['a'], ['b']],\n",
       " [['b'], ['a'], ['c']],\n",
       " [['b'], ['a'], ['d']],\n",
       " [['b'], ['a', 'b']],\n",
       " [['b'], ['a', 'c']],\n",
       " [['b'], ['a', 'd']],\n",
       " [['c'], ['a'], ['a']],\n",
       " [['c'], ['a'], ['b']],\n",
       " [['c'], ['a'], ['c']],\n",
       " [['c'], ['a'], ['d']],\n",
       " [['c'], ['a', 'b']],\n",
       " [['c'], ['a', 'c']],\n",
       " [['c'], ['a', 'd']],\n",
       " [['d'], ['a'], ['a']],\n",
       " [['d'], ['a'], ['b']],\n",
       " [['d'], ['a'], ['c']],\n",
       " [['d'], ['a'], ['d']],\n",
       " [['d'], ['a', 'b']],\n",
       " [['d'], ['a', 'c']],\n",
       " [['d'], ['a', 'd']]]"
      ]
     },
     "execution_count": 26,
     "metadata": {},
     "output_type": "execute_result"
    }
   ],
   "source": [
    "level_test_3 = generateCandidates(level_test_2,'a')\n",
    "level_test_3"
   ]
  },
  {
   "cell_type": "markdown",
   "metadata": {},
   "source": [
    "### Fonction de génération des sous-séquences"
   ]
  },
  {
   "cell_type": "code",
   "execution_count": 27,
   "metadata": {
    "collapsed": true
   },
   "outputs": [],
   "source": [
    "def generateDirectSubsequences(sequence):\n",
    "    result = []\n",
    "    for i, itemset in enumerate(sequence):\n",
    "        if (len(itemset) == 1):\n",
    "            sequenceClone = copy.deepcopy(sequence)\n",
    "            sequenceClone.pop(i)\n",
    "            result.append(sequenceClone)\n",
    "        else:\n",
    "            for j in range(len(itemset)):\n",
    "                sequenceClone = copy.deepcopy(sequence)\n",
    "                sequenceClone[i].pop(j)\n",
    "                result.append(sequenceClone)\n",
    "    return result"
   ]
  },
  {
   "cell_type": "markdown",
   "metadata": {},
   "source": [
    "## Algorithme Apriori àproprement parler :"
   ]
  },
  {
   "cell_type": "code",
   "execution_count": 48,
   "metadata": {},
   "outputs": [],
   "source": [
    "def apriori(dataset, minSupport, focus_value, verbose=False, taillemin = 2,taillemax = 0):\n",
    "    if taillemax == 0 :\n",
    "        taillemax = taillemin+1\n",
    "    global numberOfCountingOperations\n",
    "    numberOfCountingOperations = 0\n",
    "    Overall = []\n",
    "    itemsInDataset = sorted(set ([item for sublist1 in dataset for sublist2 in sublist1 for item in sublist2]))\n",
    "    singleItemSequences = [[[item]] for item in itemsInDataset]\n",
    "    singleItemCounts = [(i, support(dataset, i)) for i in singleItemSequences if (support(dataset, i) >= minSupport)]\n",
    "    Overall.append(singleItemCounts)\n",
    "    #print(\"Result, lvl 1: \" + str(Overall[0]))\n",
    "    k = 1\n",
    "    while (True):\n",
    "        if not Overall [k - 1]:\n",
    "            break\n",
    "        # 1. Candidate generation\n",
    "        candidatesLastLevel = [x[0] for x in Overall[k - 1]]\n",
    "        candidatesGenerated = generateCandidates(candidatesLastLevel,focus_value)\n",
    "        candidatesCounts = [(i, support(dataset, i)) for i in candidatesGenerated]\n",
    "        resultLvl = [(i, count) for (i, count) in candidatesCounts if (count >= minSupport)]\n",
    "        if verbose:\n",
    "            print(\"Candidats générés au niveau \" + str(k + 1) + \": \" )\n",
    "            print(str(candidatesGenerated))\n",
    "            print( \"Resultat au niveau \" + str(k + 1) + \": \" )\n",
    "            print(str(resultLvl))\n",
    "        Overall.append(resultLvl)\n",
    "        k = k + 1\n",
    "    # \"flatten\" Overall\n",
    "    Overall = Overall [:-1]\n",
    "    Overall = [item for sublist in Overall for item in sublist]\n",
    "    Overall = sorted(Overall,key=itemgetter(1),reverse=True)\n",
    "    return [i for i in Overall if (len(i[0])>=taillemin and len(i[0])<=taillemax)]"
   ]
  },
  {
   "cell_type": "code",
   "execution_count": 29,
   "metadata": {},
   "outputs": [
    {
     "name": "stdout",
     "output_type": "stream",
     "text": [
      "Result, lvl 1: [([['-1']], 22), ([['-2']], 10), ([['0']], 14), ([['1']], 19), ([['2']], 18), ([['c']], 22), ([['d']], 7), ([['u']], 7)]\n",
      "Candidats générés au niveau 2: \n",
      "[[['-1'], ['-2']], [['-1'], ['2']], [['-1', '-2']], [['-1', '2']], [['-2'], ['-1']], [['-2'], ['-2']], [['-2'], ['0']], [['-2'], ['1']], [['-2'], ['2']], [['-2'], ['c']], [['-2'], ['d']], [['-2'], ['u']], [['-2', '0']], [['-2', '1']], [['-2', '2']], [['-2', 'c']], [['-2', 'd']], [['-2', 'u']], [['0'], ['-2']], [['0'], ['2']], [['0', '2']], [['1'], ['-2']], [['1'], ['2']], [['1', '2']], [['2'], ['-1']], [['2'], ['-2']], [['2'], ['0']], [['2'], ['1']], [['2'], ['2']], [['2'], ['c']], [['2'], ['d']], [['2'], ['u']], [['2', 'c']], [['2', 'd']], [['2', 'u']], [['c'], ['-2']], [['c'], ['2']], [['d'], ['-2']], [['d'], ['2']], [['u'], ['-2']], [['u'], ['2']]]\n",
      "Resultat au niveau 2: \n",
      "[([['-1'], ['-2']], 9), ([['-1'], ['2']], 13), ([['-2'], ['-1']], 8), ([['-2'], ['1']], 8), ([['-2'], ['2']], 6), ([['-2'], ['c']], 10), ([['-2', 'c']], 8), ([['0'], ['2']], 10), ([['1'], ['2']], 13), ([['2'], ['-1']], 14), ([['2'], ['1']], 12), ([['2'], ['2']], 8), ([['2'], ['c']], 16), ([['2', 'c']], 17), ([['c'], ['-2']], 10), ([['c'], ['2']], 17)]\n",
      "Candidats générés au niveau 3: \n",
      "[[['-1'], ['-2'], ['-1']], [['-1'], ['-2'], ['1']], [['-1'], ['-2'], ['2']], [['-1'], ['-2'], ['c']], [['-1'], ['-2', 'c']], [['-1'], ['2'], ['-1']], [['-1'], ['2'], ['1']], [['-1'], ['2'], ['2']], [['-1'], ['2'], ['c']], [['-1'], ['2', 'c']], [['-2'], ['-1'], ['-2']], [['-2'], ['-1'], ['2']], [['-2'], ['1'], ['2']], [['-2'], ['2'], ['-1']], [['-2'], ['2'], ['1']], [['-2'], ['2'], ['2']], [['-2'], ['2'], ['c']], [['-2'], ['2', 'c']], [['-2'], ['c'], ['-2']], [['-2'], ['c'], ['2']], [['-2', 'c'], ['-2']], [['-2', 'c'], ['2']], [['0'], ['2'], ['-1']], [['0'], ['2'], ['1']], [['0'], ['2'], ['2']], [['0'], ['2'], ['c']], [['0'], ['2', 'c']], [['1'], ['2'], ['-1']], [['1'], ['2'], ['1']], [['1'], ['2'], ['2']], [['1'], ['2'], ['c']], [['1'], ['2', 'c']], [['2'], ['-1'], ['-2']], [['2'], ['-1'], ['2']], [['2'], ['1'], ['2']], [['2'], ['2'], ['-1']], [['2'], ['2'], ['1']], [['2'], ['2'], ['2']], [['2'], ['2'], ['c']], [['2'], ['2', 'c']], [['2'], ['c'], ['-2']], [['2'], ['c'], ['2']], [['2', 'c'], ['-2']], [['2', 'c'], ['2']], [['c'], ['-2'], ['-1']], [['c'], ['-2'], ['1']], [['c'], ['-2'], ['2']], [['c'], ['-2'], ['c']], [['c'], ['-2', 'c']], [['c'], ['2'], ['-1']], [['c'], ['2'], ['1']], [['c'], ['2'], ['2']], [['c'], ['2'], ['c']], [['c'], ['2', 'c']]]\n",
      "Resultat au niveau 3: \n",
      "[([['-1'], ['-2'], ['-1']], 7), ([['-1'], ['-2'], ['1']], 7), ([['-1'], ['-2'], ['2']], 6), ([['-1'], ['-2'], ['c']], 9), ([['-1'], ['-2', 'c']], 7), ([['-1'], ['2'], ['-1']], 9), ([['-1'], ['2'], ['1']], 9), ([['-1'], ['2'], ['c']], 13), ([['-1'], ['2', 'c']], 12), ([['-2'], ['2'], ['c']], 6), ([['-2'], ['2', 'c']], 6), ([['-2', 'c'], ['2']], 6), ([['0'], ['2'], ['-1']], 9), ([['0'], ['2'], ['c']], 7), ([['0'], ['2', 'c']], 10), ([['1'], ['2'], ['-1']], 10), ([['1'], ['2'], ['1']], 9), ([['1'], ['2'], ['c']], 10), ([['1'], ['2', 'c']], 12), ([['2'], ['2', 'c']], 6), ([['2'], ['c'], ['2']], 6), ([['2', 'c'], ['2']], 8), ([['c'], ['-2'], ['-1']], 8), ([['c'], ['-2'], ['1']], 8), ([['c'], ['-2'], ['2']], 6), ([['c'], ['-2'], ['c']], 10), ([['c'], ['-2', 'c']], 8), ([['c'], ['2'], ['-1']], 13), ([['c'], ['2'], ['1']], 11), ([['c'], ['2'], ['c']], 15), ([['c'], ['2', 'c']], 16)]\n",
      "Candidats générés au niveau 4: \n",
      "[[['-1'], ['-2'], ['2'], ['c']], [['-1'], ['-2'], ['2', 'c']], [['-1'], ['-2', 'c'], ['2']], [['-1'], ['2'], ['c'], ['2']], [['-1'], ['2', 'c'], ['2']], [['-2'], ['2'], ['c'], ['2']], [['-2'], ['2', 'c'], ['2']], [['-2', 'c'], ['2'], ['-1']], [['-2', 'c'], ['2'], ['1']], [['-2', 'c'], ['2'], ['c']], [['-2', 'c'], ['2', 'c']], [['0'], ['2'], ['c'], ['2']], [['0'], ['2', 'c'], ['2']], [['1'], ['2'], ['c'], ['2']], [['1'], ['2', 'c'], ['2']], [['2'], ['2', 'c'], ['2']], [['2'], ['c'], ['2'], ['-1']], [['2'], ['c'], ['2'], ['1']], [['2'], ['c'], ['2'], ['c']], [['2'], ['c'], ['2', 'c']], [['2', 'c'], ['2'], ['-1']], [['2', 'c'], ['2'], ['1']], [['2', 'c'], ['2'], ['c']], [['2', 'c'], ['2', 'c']], [['c'], ['-2'], ['2'], ['c']], [['c'], ['-2'], ['2', 'c']], [['c'], ['-2', 'c'], ['2']], [['c'], ['2'], ['c'], ['2']], [['c'], ['2', 'c'], ['2']]]\n",
      "Resultat au niveau 4: \n",
      "[([['-1'], ['-2'], ['2'], ['c']], 6), ([['-1'], ['-2'], ['2', 'c']], 6), ([['-1'], ['-2', 'c'], ['2']], 6), ([['-2', 'c'], ['2'], ['c']], 6), ([['-2', 'c'], ['2', 'c']], 6), ([['2'], ['c'], ['2', 'c']], 6), ([['2', 'c'], ['2', 'c']], 6), ([['c'], ['-2'], ['2'], ['c']], 6), ([['c'], ['-2'], ['2', 'c']], 6), ([['c'], ['-2', 'c'], ['2']], 6)]\n",
      "Candidats générés au niveau 5: \n",
      "[[['-1'], ['-2', 'c'], ['2'], ['c']], [['-1'], ['-2', 'c'], ['2', 'c']], [['c'], ['-2', 'c'], ['2'], ['c']], [['c'], ['-2', 'c'], ['2', 'c']]]\n",
      "Resultat au niveau 5: \n",
      "[([['-1'], ['-2', 'c'], ['2'], ['c']], 6), ([['-1'], ['-2', 'c'], ['2', 'c']], 6), ([['c'], ['-2', 'c'], ['2'], ['c']], 6), ([['c'], ['-2', 'c'], ['2', 'c']], 6)]\n",
      "Candidats générés au niveau 6: \n",
      "[]\n",
      "Resultat au niveau 6: \n",
      "[]\n"
     ]
    },
    {
     "data": {
      "text/plain": [
       "[([['c'], ['2'], ['c']], 15),\n",
       " ([['-1'], ['2'], ['c']], 13),\n",
       " ([['c'], ['2'], ['-1']], 13),\n",
       " ([['c'], ['2'], ['1']], 11),\n",
       " ([['1'], ['2'], ['-1']], 10),\n",
       " ([['1'], ['2'], ['c']], 10),\n",
       " ([['c'], ['-2'], ['c']], 10),\n",
       " ([['-1'], ['-2'], ['c']], 9),\n",
       " ([['-1'], ['2'], ['-1']], 9),\n",
       " ([['-1'], ['2'], ['1']], 9),\n",
       " ([['0'], ['2'], ['-1']], 9),\n",
       " ([['1'], ['2'], ['1']], 9),\n",
       " ([['c'], ['-2'], ['-1']], 8),\n",
       " ([['c'], ['-2'], ['1']], 8),\n",
       " ([['-1'], ['-2'], ['-1']], 7),\n",
       " ([['-1'], ['-2'], ['1']], 7),\n",
       " ([['0'], ['2'], ['c']], 7),\n",
       " ([['-1'], ['-2'], ['2']], 6),\n",
       " ([['-2'], ['2'], ['c']], 6),\n",
       " ([['2'], ['c'], ['2']], 6),\n",
       " ([['c'], ['-2'], ['2']], 6),\n",
       " ([['-1'], ['-2'], ['2', 'c']], 6),\n",
       " ([['-1'], ['-2', 'c'], ['2']], 6),\n",
       " ([['-2', 'c'], ['2'], ['c']], 6),\n",
       " ([['2'], ['c'], ['2', 'c']], 6),\n",
       " ([['c'], ['-2'], ['2', 'c']], 6),\n",
       " ([['c'], ['-2', 'c'], ['2']], 6),\n",
       " ([['-1'], ['-2', 'c'], ['2', 'c']], 6),\n",
       " ([['c'], ['-2', 'c'], ['2', 'c']], 6)]"
      ]
     },
     "execution_count": 29,
     "metadata": {},
     "output_type": "execute_result"
    }
   ],
   "source": [
    "res = apriori(test_seq,6,focus_value = ['-2','2'],verbose=True,taillemin=3,taillemax=3)\n",
    "res"
   ]
  },
  {
   "cell_type": "code",
   "execution_count": 81,
   "metadata": {
    "scrolled": true
   },
   "outputs": [
    {
     "name": "stdout",
     "output_type": "stream",
     "text": [
      "Séquences de taille 7 :\n",
      "[([['3'], ['-1']], 11), ([['-1'], ['3']], 10), ([['1'], ['3']], 10)]\n",
      "Séquences de taille 9 :\n",
      "[([['3'], ['-1']], 15), ([['1'], ['3']], 12), ([['3'], ['1']], 12), ([['-1'], ['3']], 11), ([['3'], ['-2']], 11), ([['3'], ['2']], 11), ([['0'], ['3']], 10), ([['3'], ['0']], 10)]\n",
      "Séquences de taille 11 :\n",
      "[([['1'], ['3'], ['-1']], 12), ([['-1'], ['3'], ['-1']], 11), ([['1'], ['3'], ['1']], 11)]\n",
      "Séquences de taille 13 :\n",
      "[([['-1'], ['3'], ['-1']], 16), ([['-1'], ['3'], ['1']], 14), ([['1'], ['3'], ['1']], 14), ([['1'], ['3'], ['-1']], 13), ([['-1'], ['3'], ['2']], 12), ([['0'], ['3'], ['-1']], 12), ([['0'], ['-3'], ['-1']], 11), ([['1'], ['3'], ['2']], 11), ([['-1'], ['-3'], ['-1']], 10), ([['-2'], ['-3'], ['-1']], 10), ([['-2'], ['3'], ['-1']], 10), ([['0'], ['3'], ['-2']], 10), ([['1'], ['3'], ['-2']], 10)]\n",
      "Séquences de taille 15 :\n",
      "[]\n",
      "Séquences de taille 17 :\n",
      "[([['3'], ['1'], ['3'], ['-1']], 12), ([['-2'], ['-3'], ['3'], ['-1']], 11), ([['3'], ['1'], ['3'], ['1']], 11), ([['-2'], ['-3'], ['-1'], ['3']], 10), ([['-2'], ['-3'], ['3'], ['-2']], 10), ([['-3'], ['-1'], ['3'], ['-1']], 10), ([['3'], ['-1'], ['3'], ['-1']], 10)]\n",
      "Séquences de taille 19 :\n",
      "[([['-2'], ['-3'], ['-1'], ['3'], ['-1']], 10)]\n",
      "Séquences de taille 21 :\n",
      "[([['-2'], ['-3'], ['-1'], ['3'], ['-1']], 11), ([['-1'], ['3'], ['1'], ['3'], ['-1']], 10), ([['-2'], ['-3'], ['-1'], ['3'], ['-2']], 10), ([['-2'], ['-3'], ['0'], ['3'], ['-1']], 10), ([['-2'], ['-3'], ['0'], ['3'], ['-2']], 10), ([['-2'], ['-3'], ['3'], ['3'], ['-1']], 10), ([['0'], ['-3'], ['-1'], ['3'], ['-1']], 10), ([['1'], ['3'], ['1'], ['3'], ['-1']], 10)]\n",
      "Séquences de taille 23 :\n",
      "[([['-2'], ['-3'], ['3'], ['-1'], ['3'], ['-1']], 10), ([['-2'], ['-3'], ['3'], ['0'], ['3'], ['-1']], 10)]\n",
      "Séquences de taille 25 :\n",
      "[([['-2'], ['-3'], ['3'], ['0'], ['3'], ['-1']], 13), ([['-1'], ['-3'], ['3'], ['0'], ['3'], ['-1']], 12), ([['-2'], ['-3'], ['-1'], ['3'], ['-1'], ['3']], 12), ([['-1'], ['-3'], ['-1'], ['3'], ['-1'], ['3']], 11), ([['-1'], ['-3'], ['3'], ['-1'], ['3'], ['-1']], 11), ([['-2'], ['-3'], ['3'], ['-1'], ['3'], ['-1']], 11), ([['3'], ['-1'], ['3'], ['-1'], ['3'], ['-1']], 11), ([['3'], ['-1'], ['3'], ['0'], ['3'], ['-1']], 11), ([['-3'], ['-1'], ['3'], ['-1'], ['3'], ['-1']], 10), ([['-3'], ['-1'], ['3'], ['-1'], ['3'], ['2']], 10), ([['0'], ['-3'], ['3'], ['0'], ['3'], ['-1']], 10)]\n",
      "Séquences de taille 27 :\n",
      "[([['-2'], ['-3'], ['-1'], ['3'], ['-1'], ['3'], ['-1']], 12), ([['-2'], ['-3'], ['-1'], ['3'], ['-1'], ['3'], ['2']], 11), ([['-1'], ['-3'], ['-1'], ['3'], ['-1'], ['3'], ['-1']], 10)]\n",
      "Séquences de taille 29 :\n",
      "[([['-2'], ['-3'], ['-1'], ['3'], ['-1'], ['3'], ['-1']], 12), ([['-2'], ['-3'], ['-1'], ['3'], ['-1'], ['3'], ['2']], 12), ([['-1'], ['-3'], ['-1'], ['3'], ['-1'], ['3'], ['-1']], 11), ([['-1'], ['-3'], ['-1'], ['3'], ['-1'], ['3'], ['2']], 11), ([['-2'], ['-3'], ['-1'], ['3'], ['-1'], ['3'], ['-2']], 10), ([['-2'], ['-3'], ['-1'], ['3'], ['-1'], ['3'], ['0']], 10), ([['-2'], ['-3'], ['-1'], ['3'], ['-1'], ['3'], ['1']], 10), ([['-2'], ['-3'], ['-1'], ['3'], ['1'], ['3'], ['-2']], 10), ([['-2'], ['3'], ['-1'], ['-3'], ['-1'], ['3'], ['-2']], 10), ([['-2'], ['3'], ['-1'], ['-3'], ['0'], ['3'], ['-2']], 10), ([['-2'], ['3'], ['-2'], ['-3'], ['-1'], ['3'], ['-2']], 10), ([['-2'], ['3'], ['-2'], ['-3'], ['0'], ['3'], ['-2']], 10), ([['-2'], ['3'], ['0'], ['-3'], ['-1'], ['3'], ['-2']], 10), ([['-2'], ['3'], ['0'], ['-3'], ['0'], ['3'], ['-2']], 10), ([['1'], ['-3'], ['-1'], ['3'], ['-1'], ['3'], ['-1']], 10), ([['1'], ['-3'], ['-1'], ['3'], ['-1'], ['3'], ['2']], 10)]\n",
      "Séquences de taille 31 :\n",
      "[([['-1'], ['3'], ['-1'], ['-3'], ['-1'], ['3'], ['-1'], ['-3']], 10), ([['-1'], ['3'], ['-1'], ['-3'], ['-1'], ['3'], ['-2'], ['-3']], 10), ([['-1'], ['3'], ['-1'], ['-3'], ['0'], ['3'], ['-1'], ['-3']], 10), ([['-1'], ['3'], ['-1'], ['-3'], ['0'], ['3'], ['-2'], ['-3']], 10), ([['-1'], ['3'], ['-1'], ['-3'], ['2'], ['3'], ['-1'], ['-3']], 10), ([['-1'], ['3'], ['-1'], ['-3'], ['2'], ['3'], ['-2'], ['-3']], 10), ([['-1'], ['3'], ['-2'], ['-3'], ['-1'], ['3'], ['-1'], ['-3']], 10), ([['-1'], ['3'], ['-2'], ['-3'], ['-1'], ['3'], ['-2'], ['-3']], 10), ([['-1'], ['3'], ['-2'], ['-3'], ['0'], ['3'], ['-1'], ['-3']], 10), ([['-1'], ['3'], ['-2'], ['-3'], ['0'], ['3'], ['-2'], ['-3']], 10), ([['-1'], ['3'], ['-2'], ['-3'], ['2'], ['3'], ['-1'], ['-3']], 10), ([['-1'], ['3'], ['-2'], ['-3'], ['2'], ['3'], ['-2'], ['-3']], 10), ([['-1'], ['3'], ['0'], ['-3'], ['-1'], ['3'], ['-1'], ['-3']], 10), ([['-1'], ['3'], ['0'], ['-3'], ['-1'], ['3'], ['-2'], ['-3']], 10), ([['-1'], ['3'], ['0'], ['-3'], ['0'], ['3'], ['-1'], ['-3']], 10), ([['-1'], ['3'], ['0'], ['-3'], ['0'], ['3'], ['-2'], ['-3']], 10), ([['-1'], ['3'], ['0'], ['-3'], ['2'], ['3'], ['-1'], ['-3']], 10), ([['-1'], ['3'], ['0'], ['-3'], ['2'], ['3'], ['-2'], ['-3']], 10), ([['d'], ['3'], ['-1'], ['-3'], ['-1'], ['3'], ['-1'], ['-3']], 10), ([['d'], ['3'], ['-1'], ['-3'], ['-1'], ['3'], ['-2'], ['-3']], 10), ([['d'], ['3'], ['-1'], ['-3'], ['0'], ['3'], ['-1'], ['-3']], 10), ([['d'], ['3'], ['-1'], ['-3'], ['0'], ['3'], ['-2'], ['-3']], 10), ([['d'], ['3'], ['-1'], ['-3'], ['2'], ['3'], ['-1'], ['-3']], 10), ([['d'], ['3'], ['-1'], ['-3'], ['2'], ['3'], ['-2'], ['-3']], 10), ([['d'], ['3'], ['-2'], ['-3'], ['-1'], ['3'], ['-1'], ['-3']], 10), ([['d'], ['3'], ['-2'], ['-3'], ['-1'], ['3'], ['-2'], ['-3']], 10), ([['d'], ['3'], ['-2'], ['-3'], ['0'], ['3'], ['-1'], ['-3']], 10), ([['d'], ['3'], ['-2'], ['-3'], ['0'], ['3'], ['-2'], ['-3']], 10), ([['d'], ['3'], ['-2'], ['-3'], ['2'], ['3'], ['-1'], ['-3']], 10), ([['d'], ['3'], ['-2'], ['-3'], ['2'], ['3'], ['-2'], ['-3']], 10), ([['d'], ['3'], ['0'], ['-3'], ['-1'], ['3'], ['-1'], ['-3']], 10), ([['d'], ['3'], ['0'], ['-3'], ['-1'], ['3'], ['-2'], ['-3']], 10), ([['d'], ['3'], ['0'], ['-3'], ['0'], ['3'], ['-1'], ['-3']], 10), ([['d'], ['3'], ['0'], ['-3'], ['0'], ['3'], ['-2'], ['-3']], 10), ([['d'], ['3'], ['0'], ['-3'], ['2'], ['3'], ['-1'], ['-3']], 10), ([['d'], ['3'], ['0'], ['-3'], ['2'], ['3'], ['-2'], ['-3']], 10)]\n"
     ]
    }
   ],
   "source": [
    "for i in range(3,16) :\n",
    "    print(\"Séquences de taille \"+str(2*i+1)+\" :\")\n",
    "    print(apriori(sequences(i,pa['variation'].tolist(),pa['buzz'].tolist()),10,focus_value = ['-3','3'],taillemin=i/2))"
   ]
  },
  {
   "cell_type": "markdown",
   "metadata": {},
   "source": [
    "# Fonction de recherche"
   ]
  },
  {
   "cell_type": "markdown",
   "metadata": {},
   "source": [
    "#### On a différents paramètres à faire varier : "
   ]
  },
  {
   "cell_type": "code",
   "execution_count": null,
   "metadata": {
    "collapsed": true
   },
   "outputs": [],
   "source": []
  },
  {
   "cell_type": "markdown",
   "metadata": {},
   "source": [
    "### Recherche des séquences qui se répètent de taille max"
   ]
  },
  {
   "cell_type": "code",
   "execution_count": 33,
   "metadata": {
    "scrolled": false
   },
   "outputs": [
    {
     "ename": "NameError",
     "evalue": "name 'ecart' is not defined",
     "output_type": "error",
     "traceback": [
      "\u001b[1;31m---------------------------------------------------------------------------\u001b[0m",
      "\u001b[1;31mNameError\u001b[0m                                 Traceback (most recent call last)",
      "\u001b[1;32m<ipython-input-33-9874244f6c3c>\u001b[0m in \u001b[0;36m<module>\u001b[1;34m()\u001b[0m\n\u001b[1;32m----> 1\u001b[1;33m \u001b[0mseqtest\u001b[0m \u001b[1;33m=\u001b[0m \u001b[0msequences\u001b[0m\u001b[1;33m(\u001b[0m\u001b[1;36m3\u001b[0m\u001b[1;33m,\u001b[0m\u001b[0mecart\u001b[0m\u001b[1;33m)\u001b[0m\u001b[1;33m\u001b[0m\u001b[0m\n\u001b[0m\u001b[0;32m      2\u001b[0m \u001b[0moccmax\u001b[0m \u001b[1;33m=\u001b[0m \u001b[1;36m1\u001b[0m\u001b[1;33m\u001b[0m\u001b[0m\n\u001b[0;32m      3\u001b[0m \u001b[0mtailleseq\u001b[0m \u001b[1;33m=\u001b[0m \u001b[1;36m31\u001b[0m\u001b[1;33m\u001b[0m\u001b[0m\n\u001b[0;32m      4\u001b[0m \u001b[1;32mwhile\u001b[0m \u001b[0moccmax\u001b[0m \u001b[1;33m<\u001b[0m \u001b[1;36m2\u001b[0m \u001b[1;33m:\u001b[0m\u001b[1;33m\u001b[0m\u001b[0m\n\u001b[0;32m      5\u001b[0m     \u001b[0mseqtest\u001b[0m \u001b[1;33m=\u001b[0m \u001b[0msequences\u001b[0m\u001b[1;33m(\u001b[0m\u001b[0mtailleseq\u001b[0m\u001b[1;33m,\u001b[0m\u001b[0mecart\u001b[0m\u001b[1;33m)\u001b[0m\u001b[1;33m\u001b[0m\u001b[0m\n",
      "\u001b[1;31mNameError\u001b[0m: name 'ecart' is not defined"
     ]
    }
   ],
   "source": [
    "seqtest = sequences(3,ecart)\n",
    "occmax = 1\n",
    "tailleseq = 31\n",
    "while occmax < 2 :\n",
    "    seqtest = sequences(tailleseq,ecart)\n",
    "    c = Counter(map(tuple,seqtest))\n",
    "    c = pd.DataFrame.from_dict(c,orient='index').reset_index()\n",
    "    c = c.rename(columns = {\"index\":\"sequences\",0:\"occurences\"} )\n",
    "    c = c.sort_values(by=\"occurences\",ascending=False)\n",
    "    c = c.reset_index(drop = True)\n",
    "    c= np.array(c)\n",
    "    occmax = max(occmax,c[0,1])\n",
    "    print(occmax)\n",
    "    tailleseq -= 1\n",
    "    \n",
    "print(tailleseq+1)\n",
    "print(c)\n",
    "#c[sum(abs(c))>1]"
   ]
  },
  {
   "cell_type": "code",
   "execution_count": null,
   "metadata": {
    "collapsed": true
   },
   "outputs": [],
   "source": [
    "seq"
   ]
  }
 ],
 "metadata": {
  "kernelspec": {
   "display_name": "Python 3",
   "language": "python",
   "name": "python3"
  },
  "language_info": {
   "codemirror_mode": {
    "name": "ipython",
    "version": 3
   },
   "file_extension": ".py",
   "mimetype": "text/x-python",
   "name": "python",
   "nbconvert_exporter": "python",
   "pygments_lexer": "ipython3",
   "version": "3.6.3"
  }
 },
 "nbformat": 4,
 "nbformat_minor": 2
}
