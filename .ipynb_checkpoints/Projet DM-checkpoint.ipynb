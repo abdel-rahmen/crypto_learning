{
 "cells": [
  {
   "cell_type": "markdown",
   "metadata": {},
   "source": [
    "# Projet Data Mining"
   ]
  },
  {
   "cell_type": "code",
   "execution_count": 1,
   "metadata": {},
   "outputs": [
    {
     "name": "stdout",
     "output_type": "stream",
     "text": [
      "Max length = 2753\n",
      "Max time = 2751 days 23:00:00\n"
     ]
    },
    {
     "data": {
      "image/png": "[encoded data removed]",
      "text/plain": [
       "<matplotlib.figure.Figure at 0x7f2fb8ab57b8>"
      ]
     },
     "metadata": {},
     "output_type": "display_data"
    },
    {
     "data": {
      "text/html": [
       "<div>\n",
       "<style>\n",
       "    .dataframe thead tr:only-child th {\n",
       "        text-align: right;\n",
       "    }\n",
       "\n",
       "    .dataframe thead th {\n",
       "        text-align: left;\n",
       "    }\n",
       "\n",
       "    .dataframe tbody tr th {\n",
       "        vertical-align: top;\n",
       "    }\n",
       "</style>\n",
       "<table border=\"1\" class=\"dataframe\">\n",
       "  <thead>\n",
       "    <tr style=\"text-align: right;\">\n",
       "      <th></th>\n",
       "      <th>close</th>\n",
       "      <th>high</th>\n",
       "      <th>low</th>\n",
       "      <th>open</th>\n",
       "      <th>time</th>\n",
       "      <th>volumefrom</th>\n",
       "      <th>volumeto</th>\n",
       "      <th>timestamp</th>\n",
       "    </tr>\n",
       "  </thead>\n",
       "  <tbody>\n",
       "    <tr>\n",
       "      <th>0</th>\n",
       "      <td>0.04951</td>\n",
       "      <td>0.04951</td>\n",
       "      <td>0.04951</td>\n",
       "      <td>0.04951</td>\n",
       "      <td>1279324800</td>\n",
       "      <td>20.00</td>\n",
       "      <td>0.9902</td>\n",
       "      <td>2010-07-17 02:00:00</td>\n",
       "    </tr>\n",
       "    <tr>\n",
       "      <th>1</th>\n",
       "      <td>0.08584</td>\n",
       "      <td>0.08585</td>\n",
       "      <td>0.05941</td>\n",
       "      <td>0.04951</td>\n",
       "      <td>1279411200</td>\n",
       "      <td>75.01</td>\n",
       "      <td>5.0900</td>\n",
       "      <td>2010-07-18 02:00:00</td>\n",
       "    </tr>\n",
       "    <tr>\n",
       "      <th>2</th>\n",
       "      <td>0.08080</td>\n",
       "      <td>0.09307</td>\n",
       "      <td>0.07723</td>\n",
       "      <td>0.08584</td>\n",
       "      <td>1279497600</td>\n",
       "      <td>574.00</td>\n",
       "      <td>49.6600</td>\n",
       "      <td>2010-07-19 02:00:00</td>\n",
       "    </tr>\n",
       "    <tr>\n",
       "      <th>3</th>\n",
       "      <td>0.07474</td>\n",
       "      <td>0.08181</td>\n",
       "      <td>0.07426</td>\n",
       "      <td>0.08080</td>\n",
       "      <td>1279584000</td>\n",
       "      <td>262.00</td>\n",
       "      <td>20.5900</td>\n",
       "      <td>2010-07-20 02:00:00</td>\n",
       "    </tr>\n",
       "    <tr>\n",
       "      <th>4</th>\n",
       "      <td>0.07921</td>\n",
       "      <td>0.07921</td>\n",
       "      <td>0.06634</td>\n",
       "      <td>0.07474</td>\n",
       "      <td>1279670400</td>\n",
       "      <td>575.00</td>\n",
       "      <td>42.2600</td>\n",
       "      <td>2010-07-21 02:00:00</td>\n",
       "    </tr>\n",
       "  </tbody>\n",
       "</table>\n",
       "</div>"
      ],
      "text/plain": [
       "     close     high      low     open        time  volumefrom  volumeto  \\\n",
       "0  0.04951  0.04951  0.04951  0.04951  1279324800       20.00    0.9902   \n",
       "1  0.08584  0.08585  0.05941  0.04951  1279411200       75.01    5.0900   \n",
       "2  0.08080  0.09307  0.07723  0.08584  1279497600      574.00   49.6600   \n",
       "3  0.07474  0.08181  0.07426  0.08080  1279584000      262.00   20.5900   \n",
       "4  0.07921  0.07921  0.06634  0.07474  1279670400      575.00   42.2600   \n",
       "\n",
       "            timestamp  \n",
       "0 2010-07-17 02:00:00  \n",
       "1 2010-07-18 02:00:00  \n",
       "2 2010-07-19 02:00:00  \n",
       "3 2010-07-20 02:00:00  \n",
       "4 2010-07-21 02:00:00  "
      ]
     },
     "execution_count": 1,
     "metadata": {},
     "output_type": "execute_result"
    }
   ],
   "source": [
    "import requests\n",
    "import datetime\n",
    "import pandas as pd\n",
    "import matplotlib.pyplot as plt\n",
    "%matplotlib inline\n",
    "\n",
    "def daily_price_historical(symbol, comparison_symbol, histoday=True, limit=1, aggregate=1, allData='true'):\n",
    "    # api url\n",
    "    if histoday:\n",
    "        url = 'https://min-api.cryptocompare.com/data/histoday?fsym={}&tsym={}&limit={}&aggregate={}&allData={}' \\\n",
    "            .format(symbol.upper(), comparison_symbol.upper(), limit, aggregate, allData)\n",
    "    else:\n",
    "        url = 'https://min-api.cryptocompare.com/data/histohour?fsym={}&tsym={}&limit={}&aggregate={}&allData={}' \\\n",
    "            .format(symbol.upper(), comparison_symbol.upper(), limit, aggregate, allData)\n",
    "\n",
    "    # fetch data\n",
    "    page = requests.get(url)\n",
    "    data = page.json()['Data']\n",
    "\n",
    "    # Convert Json to Table\n",
    "    df = pd.DataFrame(data)\n",
    "\n",
    "    # add a column with timestamp\n",
    "    df['timestamp'] = [datetime.datetime.fromtimestamp(d) for d in df.time]\n",
    "\n",
    "    return df\n",
    "\n",
    "\n",
    "df = daily_price_historical('BTC', 'USD', True)\n",
    "print('Max length = {}'.format(len(df)))\n",
    "print('Max time = {}'.format((df.timestamp.max() - df.timestamp.min())))\n",
    "\n",
    "plt.plot(df.timestamp, df.close)\n",
    "plt.show()\n",
    "df.head(5)"
   ]
  },
  {
   "cell_type": "code",
   "execution_count": 2,
   "metadata": {},
   "outputs": [
    {
     "ename": "NameError",
     "evalue": "name 'epsilon' is not defined",
     "output_type": "error",
     "traceback": [
      "\u001b[0;31m---------------------------------------------------------------------------\u001b[0m",
      "\u001b[0;31mNameError\u001b[0m                                 Traceback (most recent call last)",
      "\u001b[0;32m<ipython-input-2-08101d930427>\u001b[0m in \u001b[0;36m<module>\u001b[0;34m()\u001b[0m\n\u001b[1;32m      6\u001b[0m \u001b[0mepsilon2\u001b[0m \u001b[0;34m=\u001b[0m \u001b[0;36m2\u001b[0m\u001b[0;34m\u001b[0m\u001b[0m\n\u001b[1;32m      7\u001b[0m \u001b[0;34m\u001b[0m\u001b[0m\n\u001b[0;32m----> 8\u001b[0;31m \u001b[0mecart\u001b[0m\u001b[0;34m[\u001b[0m\u001b[0;34m(\u001b[0m\u001b[0mecart\u001b[0m\u001b[0;34m<\u001b[0m\u001b[0mdf\u001b[0m\u001b[0;34m[\u001b[0m\u001b[0;34m:\u001b[0m\u001b[0;34m,\u001b[0m\u001b[0;36m3\u001b[0m\u001b[0;34m]\u001b[0m\u001b[0;34m*\u001b[0m\u001b[0mepsilon\u001b[0m\u001b[0;34m)\u001b[0m \u001b[0;34m&\u001b[0m \u001b[0;34m(\u001b[0m\u001b[0mecart\u001b[0m\u001b[0;34m>\u001b[0m\u001b[0;34m-\u001b[0m\u001b[0mdf\u001b[0m\u001b[0;34m[\u001b[0m\u001b[0;34m:\u001b[0m\u001b[0;34m,\u001b[0m\u001b[0;36m3\u001b[0m\u001b[0;34m]\u001b[0m\u001b[0;34m*\u001b[0m\u001b[0mepsilon\u001b[0m\u001b[0;34m)\u001b[0m\u001b[0;34m]\u001b[0m \u001b[0;34m=\u001b[0m \u001b[0;36m0\u001b[0m\u001b[0;34m\u001b[0m\u001b[0m\n\u001b[0m\u001b[1;32m      9\u001b[0m \u001b[0mecart\u001b[0m\u001b[0;34m[\u001b[0m\u001b[0;34m(\u001b[0m\u001b[0mecart\u001b[0m\u001b[0;34m>\u001b[0m\u001b[0mdf\u001b[0m\u001b[0;34m[\u001b[0m\u001b[0;34m:\u001b[0m\u001b[0;34m,\u001b[0m\u001b[0;36m3\u001b[0m\u001b[0;34m]\u001b[0m\u001b[0;34m*\u001b[0m\u001b[0mepsilon\u001b[0m\u001b[0;34m)\u001b[0m \u001b[0;34m&\u001b[0m \u001b[0;34m(\u001b[0m\u001b[0mecart\u001b[0m\u001b[0;34m<\u001b[0m\u001b[0mdf\u001b[0m\u001b[0;34m[\u001b[0m\u001b[0;34m:\u001b[0m\u001b[0;34m,\u001b[0m\u001b[0;36m3\u001b[0m\u001b[0;34m]\u001b[0m\u001b[0;34m*\u001b[0m\u001b[0mepsilon2\u001b[0m\u001b[0;34m)\u001b[0m\u001b[0;34m]\u001b[0m \u001b[0;34m=\u001b[0m \u001b[0;36m1\u001b[0m\u001b[0;34m\u001b[0m\u001b[0m\n\u001b[1;32m     10\u001b[0m \u001b[0mecart\u001b[0m\u001b[0;34m[\u001b[0m\u001b[0mecart\u001b[0m\u001b[0;34m>\u001b[0m\u001b[0mdf\u001b[0m\u001b[0;34m[\u001b[0m\u001b[0;34m:\u001b[0m\u001b[0;34m,\u001b[0m\u001b[0;36m3\u001b[0m\u001b[0;34m]\u001b[0m\u001b[0;34m*\u001b[0m\u001b[0mepsilon2\u001b[0m\u001b[0;34m]\u001b[0m \u001b[0;34m=\u001b[0m \u001b[0;36m2\u001b[0m\u001b[0;34m\u001b[0m\u001b[0m\n",
      "\u001b[0;31mNameError\u001b[0m: name 'epsilon' is not defined"
     ]
    }
   ],
   "source": [
    "import numpy as np \n",
    "df = np.array(df)\n",
    "ecart = df[:,0]-df[:,3]\n",
    "\n",
    "epsilon1 = 0.005\n",
    "epsilon2 = 2\n",
    "\n",
    "ecart[(ecart<df[:,3]*epsilon1) & (ecart>-df[:,3]*epsilon)] = 0\n",
    "ecart[(ecart>df[:,3]*epsilon1) & (ecart<df[:,3]*epsilon2)] = 1\n",
    "ecart[ecart>df[:,3]*epsilon2] = 2\n",
    "ecart[ecart<-df[:,3]*epsilon2] = -2                                 \n",
    "ecart[(ecart<-df[:,3]*epsilon) & (ecart>-df[:,3]*epsilon2)] = -1\n",
    "\n",
    "print(sum(ecart==-2))\n",
    "print(sum(ecart==-1))\n",
    "print(sum(ecart==0))\n",
    "print(sum(ecart==1))\n",
    "print(sum(ecart==2))"
   ]
  },
  {
   "cell_type": "markdown",
   "metadata": {},
   "source": [
    "### Fonction de création des séquences"
   ]
  },
  {
   "cell_type": "code",
   "execution_count": null,
   "metadata": {
    "collapsed": true
   },
   "outputs": [],
   "source": [
    "def sequences(taille, tab) :\n",
    "    seq = [tab[i:(i+taille)] for i in range(len(tab[:-(taille-1)]))]\n",
    "    return seq"
   ]
  },
  {
   "cell_type": "markdown",
   "metadata": {},
   "source": [
    "### Recherche des séquences qui se répètent de taille max"
   ]
  },
  {
   "cell_type": "code",
   "execution_count": null,
   "metadata": {
    "scrolled": false
   },
   "outputs": [],
   "source": [
    "from collections import Counter\n",
    "seqtest = sequences(3,ecart)\n",
    "occmax = 1\n",
    "tailleseq = 31\n",
    "while occmax < 1 :\n",
    "    seqtest = sequences(tailleseq,ecart)\n",
    "    c = Counter(map(tuple,seqtest))\n",
    "    c = pd.DataFrame.from_dict(c,orient='index').reset_index()\n",
    "    c = c.rename(columns = {\"index\":\"sequences\",0:\"occurences\"} )\n",
    "    c = c.sort_values(by=\"occurences\",ascending=False)\n",
    "    c = c.reset_index(drop = True)\n",
    "    c= np.array(c)\n",
    "    occmax = max(occmax,c[0,1])\n",
    "    print(occmax)\n",
    "    tailleseq -= 1\n",
    "    \n",
    "print(tailleseq+1)\n",
    "print(c)\n",
    "#c[sum(abs(c))>1]"
   ]
  },
  {
   "cell_type": "code",
   "execution_count": null,
   "metadata": {
    "collapsed": true
   },
   "outputs": [],
   "source": []
  }
 ],
 "metadata": {
  "kernelspec": {
   "display_name": "Python 3",
   "language": "python",
   "name": "python3"
  },
  "language_info": {
   "codemirror_mode": {
    "name": "ipython",
    "version": 3
   },
   "file_extension": ".py",
   "mimetype": "text/x-python",
   "name": "python",
   "nbconvert_exporter": "python",
   "pygments_lexer": "ipython3",
   "version": "3.5.2"
  }
 },
 "nbformat": 4,
 "nbformat_minor": 2
}
