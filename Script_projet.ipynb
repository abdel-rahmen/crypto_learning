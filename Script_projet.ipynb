{
 "cells": [
  {
   "cell_type": "markdown",
   "metadata": {},
   "source": [
    "# Projet Data Mining"
   ]
  },
  {
   "cell_type": "code",
   "execution_count": 1,
   "metadata": {
    "collapsed": true,
    "scrolled": true
   },
   "outputs": [],
   "source": [
    "import requests\n",
    "import datetime\n",
    "import pandas as pd\n",
    "import numpy as np \n",
    "from matplotlib.pylab import rcParams\n",
    "import matplotlib.pyplot as plt\n",
    "from collections import Counter\n",
    "import copy\n",
    "from operator import itemgetter\n",
    "import seaborn as sns\n",
    "import warnings\n",
    "warnings.filterwarnings(\"ignore\")\n",
    "%matplotlib inline"
   ]
  },
  {
   "cell_type": "code",
   "execution_count": 2,
   "metadata": {},
   "outputs": [
    {
     "name": "stdout",
     "output_type": "stream",
     "text": [
      "Max length = 2763\n",
      "Max time = 2761 days 23:00:00\n"
     ]
    },
    {
     "data": {
      "image/png": "[encoded data removed]",
      "text/plain": [
       "<matplotlib.figure.Figure at 0x25360c541d0>"
      ]
     },
     "metadata": {},
     "output_type": "display_data"
    }
   ],
   "source": [
    "def daily_price_historical(symbol, comparison_symbol, histoday=True, limit=1, aggregate=1, allData='true'):\n",
    "    # api url\n",
    "    if histoday:\n",
    "        url = 'https://min-api.cryptocompare.com/data/histoday?fsym={}&tsym={}&limit={}&aggregate={}&allData={}' \\\n",
    "            .format(symbol.upper(), comparison_symbol.upper(), limit, aggregate, allData)\n",
    "    else:\n",
    "        url = 'https://min-api.cryptocompare.com/data/histohour?fsym={}&tsym={}&limit={}&aggregate={}&allData={}' \\\n",
    "            .format(symbol.upper(), comparison_symbol.upper(), limit, aggregate, allData)\n",
    "\n",
    "    # fetch data\n",
    "    page = requests.get(url)\n",
    "    data = page.json()['Data']\n",
    "\n",
    "    # Convert Json to Table\n",
    "    df = pd.DataFrame(data)\n",
    "\n",
    "    # add a column with timestamp\n",
    "    df['timestamp'] = [datetime.datetime.fromtimestamp(d) for d in df.time]\n",
    "\n",
    "    return df\n",
    "\n",
    "\n",
    "df = daily_price_historical('BTC', 'USD', True)\n",
    "print('Max length = {}'.format(len(df)))\n",
    "print('Max time = {}'.format((df.timestamp.max() - df.timestamp.min())))\n",
    "\n",
    "plt.plot(df.timestamp, df.close)\n",
    "plt.show()"
   ]
  },
  {
   "cell_type": "code",
   "execution_count": 3,
   "metadata": {},
   "outputs": [
    {
     "data": {
      "text/html": [
       "<div>\n",
       "<style>\n",
       "    .dataframe thead tr:only-child th {\n",
       "        text-align: right;\n",
       "    }\n",
       "\n",
       "    .dataframe thead th {\n",
       "        text-align: left;\n",
       "    }\n",
       "\n",
       "    .dataframe tbody tr th {\n",
       "        vertical-align: top;\n",
       "    }\n",
       "</style>\n",
       "<table border=\"1\" class=\"dataframe\">\n",
       "  <thead>\n",
       "    <tr style=\"text-align: right;\">\n",
       "      <th></th>\n",
       "      <th>close</th>\n",
       "      <th>high</th>\n",
       "      <th>low</th>\n",
       "      <th>open</th>\n",
       "      <th>time</th>\n",
       "      <th>volumefrom</th>\n",
       "      <th>volumeto</th>\n",
       "    </tr>\n",
       "    <tr>\n",
       "      <th>timestamp</th>\n",
       "      <th></th>\n",
       "      <th></th>\n",
       "      <th></th>\n",
       "      <th></th>\n",
       "      <th></th>\n",
       "      <th></th>\n",
       "      <th></th>\n",
       "    </tr>\n",
       "  </thead>\n",
       "  <tbody>\n",
       "    <tr>\n",
       "      <th>2010-07-17</th>\n",
       "      <td>0.04951</td>\n",
       "      <td>0.04951</td>\n",
       "      <td>0.04951</td>\n",
       "      <td>0.04951</td>\n",
       "      <td>1279324800</td>\n",
       "      <td>20.00</td>\n",
       "      <td>0.9902</td>\n",
       "    </tr>\n",
       "    <tr>\n",
       "      <th>2010-07-18</th>\n",
       "      <td>0.08584</td>\n",
       "      <td>0.08585</td>\n",
       "      <td>0.05941</td>\n",
       "      <td>0.04951</td>\n",
       "      <td>1279411200</td>\n",
       "      <td>75.01</td>\n",
       "      <td>5.0900</td>\n",
       "    </tr>\n",
       "    <tr>\n",
       "      <th>2010-07-19</th>\n",
       "      <td>0.08080</td>\n",
       "      <td>0.09307</td>\n",
       "      <td>0.07723</td>\n",
       "      <td>0.08584</td>\n",
       "      <td>1279497600</td>\n",
       "      <td>574.00</td>\n",
       "      <td>49.6600</td>\n",
       "    </tr>\n",
       "    <tr>\n",
       "      <th>2010-07-20</th>\n",
       "      <td>0.07474</td>\n",
       "      <td>0.08181</td>\n",
       "      <td>0.07426</td>\n",
       "      <td>0.08080</td>\n",
       "      <td>1279584000</td>\n",
       "      <td>262.00</td>\n",
       "      <td>20.5900</td>\n",
       "    </tr>\n",
       "    <tr>\n",
       "      <th>2010-07-21</th>\n",
       "      <td>0.07921</td>\n",
       "      <td>0.07921</td>\n",
       "      <td>0.06634</td>\n",
       "      <td>0.07474</td>\n",
       "      <td>1279670400</td>\n",
       "      <td>575.00</td>\n",
       "      <td>42.2600</td>\n",
       "    </tr>\n",
       "    <tr>\n",
       "      <th>2010-07-22</th>\n",
       "      <td>0.05050</td>\n",
       "      <td>0.08181</td>\n",
       "      <td>0.05050</td>\n",
       "      <td>0.07921</td>\n",
       "      <td>1279756800</td>\n",
       "      <td>2160.00</td>\n",
       "      <td>129.7800</td>\n",
       "    </tr>\n",
       "    <tr>\n",
       "      <th>2010-07-23</th>\n",
       "      <td>0.06262</td>\n",
       "      <td>0.06767</td>\n",
       "      <td>0.05050</td>\n",
       "      <td>0.05050</td>\n",
       "      <td>1279843200</td>\n",
       "      <td>2402.50</td>\n",
       "      <td>141.0700</td>\n",
       "    </tr>\n",
       "  </tbody>\n",
       "</table>\n",
       "</div>"
      ],
      "text/plain": [
       "              close     high      low     open        time  volumefrom  \\\n",
       "timestamp                                                                \n",
       "2010-07-17  0.04951  0.04951  0.04951  0.04951  1279324800       20.00   \n",
       "2010-07-18  0.08584  0.08585  0.05941  0.04951  1279411200       75.01   \n",
       "2010-07-19  0.08080  0.09307  0.07723  0.08584  1279497600      574.00   \n",
       "2010-07-20  0.07474  0.08181  0.07426  0.08080  1279584000      262.00   \n",
       "2010-07-21  0.07921  0.07921  0.06634  0.07474  1279670400      575.00   \n",
       "2010-07-22  0.05050  0.08181  0.05050  0.07921  1279756800     2160.00   \n",
       "2010-07-23  0.06262  0.06767  0.05050  0.05050  1279843200     2402.50   \n",
       "\n",
       "            volumeto  \n",
       "timestamp             \n",
       "2010-07-17    0.9902  \n",
       "2010-07-18    5.0900  \n",
       "2010-07-19   49.6600  \n",
       "2010-07-20   20.5900  \n",
       "2010-07-21   42.2600  \n",
       "2010-07-22  129.7800  \n",
       "2010-07-23  141.0700  "
      ]
     },
     "execution_count": 3,
     "metadata": {},
     "output_type": "execute_result"
    }
   ],
   "source": [
    "df['timestamp'] = df['timestamp'].dt.strftime('%Y-%m-%d')\n",
    "df2 = df.set_index('timestamp')\n",
    "df2.head(7)"
   ]
  },
  {
   "cell_type": "code",
   "execution_count": 4,
   "metadata": {
    "collapsed": true
   },
   "outputs": [],
   "source": [
    "pa = pd.read_csv('results.csv', usecols=[\"Date\",\"Value\"])\n",
    "pa['Date'] = [pd.datetime.strptime(d, '%Y-%m-%d %H:%M:%S') for d in pa.Date]\n",
    "pa = pa.set_index('Date')"
   ]
  },
  {
   "cell_type": "code",
   "execution_count": 5,
   "metadata": {
    "collapsed": true
   },
   "outputs": [],
   "source": [
    "rcParams['figure.figsize'] = 15, 6\n",
    "pa['mean'] = pa.rolling(window=5, center=True).mean()\n",
    "ts = pa['mean']"
   ]
  },
  {
   "cell_type": "code",
   "execution_count": 6,
   "metadata": {},
   "outputs": [
    {
     "data": {
      "text/plain": [
       "[<matplotlib.lines.Line2D at 0x253612c7208>,\n",
       " <matplotlib.lines.Line2D at 0x25361608c18>]"
      ]
     },
     "execution_count": 6,
     "metadata": {},
     "output_type": "execute_result"
    },
    {
     "data": {
      "image/png": "[encoded data removed]",
      "text/plain": [
       "<matplotlib.figure.Figure at 0x2535ccad518>"
      ]
     },
     "metadata": {},
     "output_type": "display_data"
    }
   ],
   "source": [
    "plt.plot(pa)"
   ]
  },
  {
   "cell_type": "code",
   "execution_count": 7,
   "metadata": {
    "collapsed": true
   },
   "outputs": [],
   "source": [
    "#on décale la série ts pour ensuite calculer l'écart entre une valeur et la moyenne mobile au temps précédent\n",
    "for i in range(1,len(ts)) :\n",
    "    ts[len(ts)-i] = ts[(len(ts)-i)-1]"
   ]
  },
  {
   "cell_type": "markdown",
   "metadata": {},
   "source": [
    "### (fonction de) Création de la colonne buzz"
   ]
  },
  {
   "cell_type": "code",
   "execution_count": 8,
   "metadata": {
    "collapsed": true
   },
   "outputs": [],
   "source": [
    "def buzz(eps_buzz1,eps_buzz2 = False):\n",
    "    pa['buzz']='c'\n",
    "    if eps_buzz2 :\n",
    "        pa['buzz'][((pa['Value']-ts)>eps_buzz1) & ((pa['Value']-ts)<eps_buzz2)]='U'\n",
    "        pa['buzz'][((pa['Value']-ts)<-eps_buzz1) & ((pa['Value']-ts)>-eps_buzz2)]='D'\n",
    "        pa['buzz'][(pa['Value']-ts)>eps_buzz2]='u'\n",
    "        pa['buzz'][(pa['Value']-ts)<-eps_buzz2]='d'\n",
    "    else :\n",
    "        pa['buzz'][(pa['Value']-ts)>eps_buzz1]='u'\n",
    "        pa['buzz'][(pa['Value']-ts)<-eps_buzz1]='d'"
   ]
  },
  {
   "cell_type": "code",
   "execution_count": 9,
   "metadata": {
    "collapsed": true
   },
   "outputs": [],
   "source": [
    "buzz(0.05,0.15)"
   ]
  },
  {
   "cell_type": "code",
   "execution_count": 10,
   "metadata": {
    "collapsed": true
   },
   "outputs": [],
   "source": [
    "b = (0.05,0.15)\n",
    "c = [0.1]\n",
    "buzz(*b)"
   ]
  },
  {
   "cell_type": "markdown",
   "metadata": {},
   "source": [
    "### Concaténation avec la première table"
   ]
  },
  {
   "cell_type": "code",
   "execution_count": 11,
   "metadata": {
    "collapsed": true
   },
   "outputs": [],
   "source": [
    "pa = pa.join(df2)"
   ]
  },
  {
   "cell_type": "code",
   "execution_count": 12,
   "metadata": {
    "collapsed": true
   },
   "outputs": [],
   "source": [
    "pa = pa[['open','close','Value','buzz']]"
   ]
  },
  {
   "cell_type": "markdown",
   "metadata": {},
   "source": [
    "### Affichage des différents buzz/debuzz"
   ]
  },
  {
   "cell_type": "code",
   "execution_count": 13,
   "metadata": {
    "scrolled": false
   },
   "outputs": [
    {
     "data": {
      "text/html": [
       "<div>\n",
       "<style>\n",
       "    .dataframe thead tr:only-child th {\n",
       "        text-align: right;\n",
       "    }\n",
       "\n",
       "    .dataframe thead th {\n",
       "        text-align: left;\n",
       "    }\n",
       "\n",
       "    .dataframe tbody tr th {\n",
       "        vertical-align: top;\n",
       "    }\n",
       "</style>\n",
       "<table border=\"1\" class=\"dataframe\">\n",
       "  <thead>\n",
       "    <tr style=\"text-align: right;\">\n",
       "      <th></th>\n",
       "      <th>open</th>\n",
       "      <th>close</th>\n",
       "      <th>Value</th>\n",
       "      <th>buzz</th>\n",
       "    </tr>\n",
       "    <tr>\n",
       "      <th>Date</th>\n",
       "      <th></th>\n",
       "      <th></th>\n",
       "      <th></th>\n",
       "      <th></th>\n",
       "    </tr>\n",
       "  </thead>\n",
       "  <tbody>\n",
       "    <tr>\n",
       "      <th>2017-03-03</th>\n",
       "      <td>1255.47</td>\n",
       "      <td>1283.30</td>\n",
       "      <td>0.1121</td>\n",
       "      <td>U</td>\n",
       "    </tr>\n",
       "    <tr>\n",
       "      <th>2017-05-11</th>\n",
       "      <td>1752.31</td>\n",
       "      <td>1819.29</td>\n",
       "      <td>0.0508</td>\n",
       "      <td>D</td>\n",
       "    </tr>\n",
       "    <tr>\n",
       "      <th>2017-05-12</th>\n",
       "      <td>1819.29</td>\n",
       "      <td>1686.39</td>\n",
       "      <td>0.3512</td>\n",
       "      <td>U</td>\n",
       "    </tr>\n",
       "    <tr>\n",
       "      <th>2017-05-13</th>\n",
       "      <td>1686.39</td>\n",
       "      <td>1763.74</td>\n",
       "      <td>0.8747</td>\n",
       "      <td>u</td>\n",
       "    </tr>\n",
       "    <tr>\n",
       "      <th>2017-05-14</th>\n",
       "      <td>1763.74</td>\n",
       "      <td>1772.55</td>\n",
       "      <td>0.6825</td>\n",
       "      <td>U</td>\n",
       "    </tr>\n",
       "  </tbody>\n",
       "</table>\n",
       "</div>"
      ],
      "text/plain": [
       "               open    close   Value buzz\n",
       "Date                                     \n",
       "2017-03-03  1255.47  1283.30  0.1121    U\n",
       "2017-05-11  1752.31  1819.29  0.0508    D\n",
       "2017-05-12  1819.29  1686.39  0.3512    U\n",
       "2017-05-13  1686.39  1763.74  0.8747    u\n",
       "2017-05-14  1763.74  1772.55  0.6825    U"
      ]
     },
     "execution_count": 13,
     "metadata": {},
     "output_type": "execute_result"
    }
   ],
   "source": [
    "pa[pa['buzz']!='c'].head()"
   ]
  },
  {
   "cell_type": "markdown",
   "metadata": {},
   "source": [
    "### Création de la variable d'ecart"
   ]
  },
  {
   "cell_type": "code",
   "execution_count": 14,
   "metadata": {
    "collapsed": true
   },
   "outputs": [],
   "source": [
    "pa['ecart'] = pa['close']-pa['open']"
   ]
  },
  {
   "cell_type": "code",
   "execution_count": 15,
   "metadata": {
    "collapsed": true,
    "scrolled": true
   },
   "outputs": [],
   "source": [
    "epsilon1 = 0.005\n",
    "epsilon2 = 0.1"
   ]
  },
  {
   "cell_type": "code",
   "execution_count": 16,
   "metadata": {
    "collapsed": true
   },
   "outputs": [],
   "source": [
    "def variation(epsilon1,epsilon2,epsilon3=False):\n",
    "    pa['variation'] = 0\n",
    "    pa['variation'][(pa['ecart']>pa['open']*epsilon1) & (pa['ecart']<pa['open']*epsilon2)] = 1\n",
    "    pa['variation'][(pa['ecart']<-pa['open']*epsilon1) & (pa['ecart']>-pa['open']*epsilon2)] = -1\n",
    "    if not epsilon3 :\n",
    "        pa['variation'][pa['ecart'] < -pa['open']*epsilon2] = -2\n",
    "        pa['variation'][pa['ecart'] > pa['open']*epsilon2] = 2\n",
    "    else :\n",
    "        pa['variation'][(pa['ecart']>pa['open']*epsilon2) & (pa['ecart']<pa['open']*epsilon3)] = 2\n",
    "        pa['variation'][(pa['ecart']<-pa['open']*epsilon2) & (pa['ecart']>-pa['open']*epsilon3)] = -2\n",
    "        pa['variation'][pa['ecart'] < -pa['open']*epsilon3] = -3\n",
    "        pa['variation'][pa['ecart'] > pa['open']*epsilon3] = 3"
   ]
  },
  {
   "cell_type": "code",
   "execution_count": 17,
   "metadata": {
    "collapsed": true
   },
   "outputs": [],
   "source": [
    "variation(0.005,0.05,0.1)"
   ]
  },
  {
   "cell_type": "code",
   "execution_count": 18,
   "metadata": {},
   "outputs": [
    {
     "data": {
      "text/html": [
       "<div>\n",
       "<style>\n",
       "    .dataframe thead tr:only-child th {\n",
       "        text-align: right;\n",
       "    }\n",
       "\n",
       "    .dataframe thead th {\n",
       "        text-align: left;\n",
       "    }\n",
       "\n",
       "    .dataframe tbody tr th {\n",
       "        vertical-align: top;\n",
       "    }\n",
       "</style>\n",
       "<table border=\"1\" class=\"dataframe\">\n",
       "  <thead>\n",
       "    <tr style=\"text-align: right;\">\n",
       "      <th></th>\n",
       "      <th>open</th>\n",
       "      <th>close</th>\n",
       "      <th>Value</th>\n",
       "      <th>buzz</th>\n",
       "      <th>ecart</th>\n",
       "      <th>variation</th>\n",
       "    </tr>\n",
       "    <tr>\n",
       "      <th>Date</th>\n",
       "      <th></th>\n",
       "      <th></th>\n",
       "      <th></th>\n",
       "      <th></th>\n",
       "      <th></th>\n",
       "      <th></th>\n",
       "    </tr>\n",
       "  </thead>\n",
       "  <tbody>\n",
       "    <tr>\n",
       "      <th>2017-02-09</th>\n",
       "      <td>1055.49</td>\n",
       "      <td>978.96</td>\n",
       "      <td>0.0671</td>\n",
       "      <td>c</td>\n",
       "      <td>-76.53</td>\n",
       "      <td>-2</td>\n",
       "    </tr>\n",
       "    <tr>\n",
       "      <th>2017-03-08</th>\n",
       "      <td>1232.69</td>\n",
       "      <td>1146.97</td>\n",
       "      <td>0.0362</td>\n",
       "      <td>c</td>\n",
       "      <td>-85.72</td>\n",
       "      <td>-2</td>\n",
       "    </tr>\n",
       "    <tr>\n",
       "      <th>2017-03-10</th>\n",
       "      <td>1191.33</td>\n",
       "      <td>1112.39</td>\n",
       "      <td>0.0681</td>\n",
       "      <td>c</td>\n",
       "      <td>-78.94</td>\n",
       "      <td>-2</td>\n",
       "    </tr>\n",
       "    <tr>\n",
       "      <th>2017-03-11</th>\n",
       "      <td>1112.39</td>\n",
       "      <td>1179.22</td>\n",
       "      <td>0.0935</td>\n",
       "      <td>c</td>\n",
       "      <td>66.83</td>\n",
       "      <td>2</td>\n",
       "    </tr>\n",
       "    <tr>\n",
       "      <th>2017-03-16</th>\n",
       "      <td>1253.43</td>\n",
       "      <td>1172.88</td>\n",
       "      <td>0.0450</td>\n",
       "      <td>c</td>\n",
       "      <td>-80.55</td>\n",
       "      <td>-2</td>\n",
       "    </tr>\n",
       "    <tr>\n",
       "      <th>2017-03-17</th>\n",
       "      <td>1172.88</td>\n",
       "      <td>1071.71</td>\n",
       "      <td>0.0395</td>\n",
       "      <td>c</td>\n",
       "      <td>-101.17</td>\n",
       "      <td>-2</td>\n",
       "    </tr>\n",
       "    <tr>\n",
       "      <th>2017-03-18</th>\n",
       "      <td>1071.71</td>\n",
       "      <td>971.38</td>\n",
       "      <td>0.0339</td>\n",
       "      <td>c</td>\n",
       "      <td>-100.33</td>\n",
       "      <td>-2</td>\n",
       "    </tr>\n",
       "    <tr>\n",
       "      <th>2017-03-19</th>\n",
       "      <td>971.38</td>\n",
       "      <td>1022.60</td>\n",
       "      <td>0.0342</td>\n",
       "      <td>c</td>\n",
       "      <td>51.22</td>\n",
       "      <td>2</td>\n",
       "    </tr>\n",
       "    <tr>\n",
       "      <th>2017-03-21</th>\n",
       "      <td>1047.51</td>\n",
       "      <td>1121.29</td>\n",
       "      <td>0.0425</td>\n",
       "      <td>c</td>\n",
       "      <td>73.78</td>\n",
       "      <td>2</td>\n",
       "    </tr>\n",
       "    <tr>\n",
       "      <th>2017-03-22</th>\n",
       "      <td>1121.29</td>\n",
       "      <td>1044.72</td>\n",
       "      <td>0.0859</td>\n",
       "      <td>c</td>\n",
       "      <td>-76.57</td>\n",
       "      <td>-2</td>\n",
       "    </tr>\n",
       "  </tbody>\n",
       "</table>\n",
       "</div>"
      ],
      "text/plain": [
       "               open    close   Value buzz   ecart  variation\n",
       "Date                                                        \n",
       "2017-02-09  1055.49   978.96  0.0671    c  -76.53         -2\n",
       "2017-03-08  1232.69  1146.97  0.0362    c  -85.72         -2\n",
       "2017-03-10  1191.33  1112.39  0.0681    c  -78.94         -2\n",
       "2017-03-11  1112.39  1179.22  0.0935    c   66.83          2\n",
       "2017-03-16  1253.43  1172.88  0.0450    c  -80.55         -2\n",
       "2017-03-17  1172.88  1071.71  0.0395    c -101.17         -2\n",
       "2017-03-18  1071.71   971.38  0.0339    c -100.33         -2\n",
       "2017-03-19   971.38  1022.60  0.0342    c   51.22          2\n",
       "2017-03-21  1047.51  1121.29  0.0425    c   73.78          2\n",
       "2017-03-22  1121.29  1044.72  0.0859    c  -76.57         -2"
      ]
     },
     "execution_count": 18,
     "metadata": {},
     "output_type": "execute_result"
    }
   ],
   "source": [
    "pa[abs(pa['variation'])>1].head(10)"
   ]
  },
  {
   "cell_type": "code",
   "execution_count": 19,
   "metadata": {},
   "outputs": [
    {
     "name": "stdout",
     "output_type": "stream",
     "text": [
      "35\n",
      "77\n",
      "51\n",
      "137\n",
      "36\n"
     ]
    }
   ],
   "source": [
    "print(sum(pa['variation']==-2))\n",
    "print(sum(pa['variation']==-1))\n",
    "print(sum(pa['variation']==0))\n",
    "print(sum(pa['variation']==1))\n",
    "print(sum(pa['variation']==2))"
   ]
  },
  {
   "cell_type": "markdown",
   "metadata": {},
   "source": [
    "### Fonctions de création des séquences"
   ]
  },
  {
   "cell_type": "code",
   "execution_count": 20,
   "metadata": {
    "collapsed": true
   },
   "outputs": [],
   "source": [
    "def sequences(distance_buzz, liste_variation, liste_buzz) :\n",
    "    seq1 = [liste_variation[i-distance_buzz:(i+distance_buzz+1)] \n",
    "            for i in range(len(liste_variation[:-(distance_buzz-1)])) \n",
    "            if abs(liste_variation[i])==2]\n",
    "    seq1 = [list(map(str,s)) for s in seq1]\n",
    "    \n",
    "    seq2 = [liste_buzz[i-distance_buzz:(i+distance_buzz+1)] \n",
    "            for i in range(len(liste_variation[:-(distance_buzz-1)])) \n",
    "            if abs(liste_variation[i])==2]\n",
    "    \n",
    "    zipped_list = [list(zip(seq1[i], seq2[i])) for i in range(len(seq1))]\n",
    "    zipped_list2 = [[list(a[i]) for i in range(len(a))] for a in zipped_list]\n",
    "    result = [[t  if (t[1]!='c') else [t[0]] for t in s] for s in zipped_list2]\n",
    "    return result"
   ]
  },
  {
   "cell_type": "code",
   "execution_count": 21,
   "metadata": {},
   "outputs": [
    {
     "data": {
      "text/plain": [
       "[[['1'], ['1'], ['1'], ['-2'], ['1'], ['1'], ['-1']],\n",
       " [['1'], ['0'], ['-1'], ['-2'], ['1'], ['-2'], ['2']],\n",
       " [['-1'], ['-2'], ['1'], ['-2'], ['2'], ['1'], ['1']],\n",
       " [['-2'], ['1'], ['-2'], ['2'], ['1'], ['1'], ['0']],\n",
       " [['1'], ['0'], ['1'], ['-2'], ['-2'], ['-2'], ['2']],\n",
       " [['0'], ['1'], ['-2'], ['-2'], ['-2'], ['2'], ['1']],\n",
       " [['1'], ['-2'], ['-2'], ['-2'], ['2'], ['1'], ['2']],\n",
       " [['-2'], ['-2'], ['-2'], ['2'], ['1'], ['2'], ['-2']],\n",
       " [['-2'], ['2'], ['1'], ['2'], ['-2'], ['-1'], ['-2']],\n",
       " [['2'], ['1'], ['2'], ['-2'], ['-1'], ['-2'], ['1']],\n",
       " [['2'], ['-2'], ['-1'], ['-2'], ['1'], ['0'], ['2']],\n",
       " [['-2'], ['1'], ['0'], ['2'], ['0'], ['0'], ['0']],\n",
       " [['1'], ['-1'], ['-1'], ['2'], ['0'], ['-1'], ['1']],\n",
       " [['-1'], ['1'], ['1'], ['2'], ['1'], ['1'], ['1', 'D']],\n",
       " [['1'], ['1'], ['1', 'D'], ['-2', 'U'], ['1', 'u'], ['0', 'U'], ['-1', 'U']],\n",
       " [['1'], ['0'], ['1'], ['2', 'U'], ['2'], ['-2'], ['-1']],\n",
       " [['0'], ['1'], ['2', 'U'], ['2'], ['-2'], ['-1'], ['-2']],\n",
       " [['1'], ['2', 'U'], ['2'], ['-2'], ['-1'], ['-2'], ['2']],\n",
       " [['2'], ['-2'], ['-1'], ['-2'], ['2'], ['1'], ['-1']],\n",
       " [['-2'], ['-1'], ['-2'], ['2'], ['1'], ['-1'], ['2']],\n",
       " [['2'], ['1'], ['-1'], ['2'], ['1'], ['1'], ['1']],\n",
       " [['1'], ['1'], ['-1'], ['2'], ['2'], ['-2'], ['1']],\n",
       " [['1'], ['-1'], ['2'], ['2'], ['-2'], ['1'], ['0']],\n",
       " [['-1'], ['2'], ['2'], ['-2'], ['1'], ['0'], ['1']],\n",
       " [['1'], ['-3'], ['1'], ['-2'], ['-1'], ['1'], ['2']],\n",
       " [['-2'], ['-1'], ['1'], ['2'], ['-1'], ['1'], ['2']],\n",
       " [['2'], ['-1'], ['1'], ['2'], ['-1'], ['1'], ['0']],\n",
       " [['-1'], ['-1'], ['-1'], ['2', 'U'], ['0', 'u'], ['-1'], ['-1', 'D']],\n",
       " [['-1'], ['1'], ['-1'], ['-2'], ['-1', 'U'], ['1'], ['-1']],\n",
       " [['-1', 'U'], ['1'], ['-1'], ['-2'], ['-3'], ['-1'], ['3']],\n",
       " [['1'], ['-1'], ['3'], ['-2'], ['2'], ['-1'], ['0', 'U']],\n",
       " [['-1'], ['3'], ['-2'], ['2'], ['-1'], ['0', 'U'], ['-2']],\n",
       " [['2'], ['-1'], ['0', 'U'], ['-2'], ['-1'], ['2'], ['1']],\n",
       " [['0', 'U'], ['-2'], ['-1'], ['2'], ['1'], ['-1'], ['1']],\n",
       " [['1'], ['3'], ['-1'], ['2'], ['1', 'U'], ['-1'], ['1']],\n",
       " [['1', 'U'], ['-1'], ['1'], ['2'], ['2'], ['1'], ['2']],\n",
       " [['-1'], ['1'], ['2'], ['2'], ['1'], ['2'], ['-1']],\n",
       " [['2'], ['2'], ['1'], ['2'], ['-1'], ['2'], ['-1']],\n",
       " [['1'], ['2'], ['-1'], ['2'], ['-1'], ['-1'], ['1']],\n",
       " [['0'], ['1'], ['1'], ['-2'], ['1'], ['-2', 'U'], ['1', 'U']],\n",
       " [['1'], ['-2'], ['1'], ['-2', 'U'], ['1', 'U'], ['1'], ['0', 'D']],\n",
       " [['1', 'U'], ['1'], ['0', 'D'], ['-2'], ['0'], ['-1', 'D'], ['-1']],\n",
       " [['-1', 'D'], ['-1'], ['-1'], ['-2', 'U'], ['-3'], ['3', 'U'], ['0', 'D']],\n",
       " [['3'], ['-1'], ['-1'], ['-2'], ['0'], ['2'], ['-1']],\n",
       " [['-1'], ['-2'], ['0'], ['2'], ['-1'], ['2'], ['-1']],\n",
       " [['0'], ['2'], ['-1'], ['2'], ['-1'], ['2', 'U'], ['0']],\n",
       " [['-1'], ['2'], ['-1'], ['2', 'U'], ['0'], ['-1', 'U'], ['1']],\n",
       " [['-1'], ['0'], ['1'], ['2'], ['0'], ['0', 'D'], ['-1']],\n",
       " [['0'], ['0', 'D'], ['-1'], ['-2'], ['1', 'U'], ['1'], ['-1']],\n",
       " [['1'], ['-1'], ['-1'], ['2'], ['0'], ['2'], ['1', 'U']],\n",
       " [['-1'], ['2'], ['0'], ['2'], ['1', 'U'], ['1'], ['1']],\n",
       " [['1'], ['1'], ['0', 'D'], ['-2'], ['1'], ['1'], ['-1']],\n",
       " [['1'], ['1'], ['-1'], ['-2'], ['-1'], ['-2', 'D'], ['3', 'U']],\n",
       " [['-1'], ['-2'], ['-1'], ['-2', 'D'], ['3', 'U'], ['1'], ['3']],\n",
       " [['3', 'U'], ['1'], ['3'], ['2'], ['-1'], ['1', 'D'], ['1', 'D']],\n",
       " [['1'], ['-1', 'D'], ['1', 'D'], ['2', 'D'], ['2'], ['1', 'u'], ['1']],\n",
       " [['-1', 'D'], ['1', 'D'], ['2', 'D'], ['2'], ['1', 'u'], ['1'], ['-1', 'u']],\n",
       " [['3', 'D'],\n",
       "  ['3', 'u'],\n",
       "  ['-1', 'u'],\n",
       "  ['-2', 'd'],\n",
       "  ['1', 'd'],\n",
       "  ['3', 'u'],\n",
       "  ['1']],\n",
       " [['1'],\n",
       "  ['-1', 'U'],\n",
       "  ['1', 'd'],\n",
       "  ['2', 'U'],\n",
       "  ['2', 'D'],\n",
       "  ['-1', 'D'],\n",
       "  ['0', 'U']],\n",
       " [['-1', 'U'],\n",
       "  ['1', 'd'],\n",
       "  ['2', 'U'],\n",
       "  ['2', 'D'],\n",
       "  ['-1', 'D'],\n",
       "  ['0', 'U'],\n",
       "  ['-2', 'U']],\n",
       " [['2', 'D'],\n",
       "  ['-1', 'D'],\n",
       "  ['0', 'U'],\n",
       "  ['-2', 'U'],\n",
       "  ['-2', 'u'],\n",
       "  ['-2', 'D'],\n",
       "  ['-3', 'u']],\n",
       " [['-1', 'D'],\n",
       "  ['0', 'U'],\n",
       "  ['-2', 'U'],\n",
       "  ['-2', 'u'],\n",
       "  ['-2', 'D'],\n",
       "  ['-3', 'u'],\n",
       "  ['2', 'D']],\n",
       " [['0', 'U'],\n",
       "  ['-2', 'U'],\n",
       "  ['-2', 'u'],\n",
       "  ['-2', 'D'],\n",
       "  ['-3', 'u'],\n",
       "  ['2', 'D'],\n",
       "  ['-1', 'd']],\n",
       " [['-2', 'u'],\n",
       "  ['-2', 'D'],\n",
       "  ['-3', 'u'],\n",
       "  ['2', 'D'],\n",
       "  ['-1', 'd'],\n",
       "  ['0', 'd'],\n",
       "  ['3', 'U']],\n",
       " [['0', 'd'],\n",
       "  ['3', 'U'],\n",
       "  ['-1'],\n",
       "  ['-2', 'U'],\n",
       "  ['0', 'U'],\n",
       "  ['-3', 'D'],\n",
       "  ['3', 'D']],\n",
       " [['-3', 'D'],\n",
       "  ['3', 'D'],\n",
       "  ['-1', 'D'],\n",
       "  ['2', 'U'],\n",
       "  ['1', 'U'],\n",
       "  ['0'],\n",
       "  ['3', 'D']],\n",
       " [['0'], ['3', 'D'], ['1', 'D'], ['-2'], ['-2'], ['-1', 'U'], ['1']],\n",
       " [['3', 'D'], ['1', 'D'], ['-2'], ['-2'], ['-1', 'U'], ['1'], ['-3', 'u']],\n",
       " [['0'], ['1', 'D'], ['3', 'd'], ['-2', 'd'], ['-2'], ['0', 'U'], ['2']],\n",
       " [['1', 'D'], ['3', 'd'], ['-2', 'd'], ['-2'], ['0', 'U'], ['2'], ['-1']],\n",
       " [['-2', 'd'], ['-2'], ['0', 'U'], ['2'], ['-1'], ['-1'], ['1']]]"
      ]
     },
     "execution_count": 21,
     "metadata": {},
     "output_type": "execute_result"
    }
   ],
   "source": [
    "test_seq = sequences(3,pa['variation'].tolist(),pa['buzz'].tolist())\n",
    "test_seq"
   ]
  },
  {
   "cell_type": "code",
   "execution_count": 22,
   "metadata": {
    "collapsed": true
   },
   "outputs": [],
   "source": [
    "def sequ_buzz(taille):\n",
    "    tab = [[pa['variation'].loc[idx],pa['buzz'].loc[idx]] for idx in pa.index]\n",
    "    return sequences(taille,tab)"
   ]
  },
  {
   "cell_type": "markdown",
   "metadata": {},
   "source": [
    "#### On écrit la fonction isSubSeq qui renvoie si la séquence sub est sub-séquence de la séquence seq."
   ]
  },
  {
   "cell_type": "markdown",
   "metadata": {},
   "source": [
    "### Fonction de test isSubSeq"
   ]
  },
  {
   "cell_type": "code",
   "execution_count": 23,
   "metadata": {
    "collapsed": true
   },
   "outputs": [],
   "source": [
    "def isSubSeq(seq,sub) :\n",
    "    newsub = list(sub)\n",
    "    return(SubSeq(seq,newsub))"
   ]
  },
  {
   "cell_type": "markdown",
   "metadata": {},
   "source": [
    "#### On recherche de manière récursive chaque élément de la sous-séquence dans la séquence principale, tout en avançant dans cette dernière sans retour en arrière. Tant que l'on trouve les éléments on continue la recherche. Si il n'y a plus d'éléments à rechercher, c'est bon et on remonte les appels en renvoyant des True. Si l'un des éléments de la sous-séquence potentielle n'a pas été trouvé, False est renvoyé."
   ]
  },
  {
   "cell_type": "code",
   "execution_count": 24,
   "metadata": {
    "collapsed": true
   },
   "outputs": [],
   "source": [
    "def SubSeq(seq,newsub,level=0) :\n",
    "    if(not newsub):\n",
    "        return True\n",
    "    first = set(newsub.pop(0))\n",
    "    for i in range(level,len(seq)) :\n",
    "        if set(seq[i]).issuperset(first) : \n",
    "            return SubSeq(seq,newsub,i+1)\n",
    "    return False"
   ]
  },
  {
   "cell_type": "code",
   "execution_count": 25,
   "metadata": {},
   "outputs": [
    {
     "name": "stdout",
     "output_type": "stream",
     "text": [
      "False\n"
     ]
    },
    {
     "data": {
      "text/plain": [
       "True"
      ]
     },
     "execution_count": 25,
     "metadata": {},
     "output_type": "execute_result"
    }
   ],
   "source": [
    "test=[['a'],['b','c'],['a']]\n",
    "test2=[['c'],['b']]\n",
    "test3=[['a'],['c']]\n",
    "print(isSubSeq(test,test2))\n",
    "isSubSeq(test,test3)"
   ]
  },
  {
   "cell_type": "markdown",
   "metadata": {},
   "source": [
    "#### fonction de calcul du  support d'une séquence"
   ]
  },
  {
   "cell_type": "code",
   "execution_count": 26,
   "metadata": {
    "collapsed": true
   },
   "outputs": [],
   "source": [
    "def support(dict,tested_seq) :\n",
    "    return sum(1 for seq in dict if isSubSeq(seq,tested_seq)) "
   ]
  },
  {
   "cell_type": "code",
   "execution_count": 27,
   "metadata": {},
   "outputs": [
    {
     "data": {
      "text/plain": [
       "2"
      ]
     },
     "execution_count": 27,
     "metadata": {},
     "output_type": "execute_result"
    }
   ],
   "source": [
    "datatest = [test,test2,test3]\n",
    "support(datatest,['a','c'])"
   ]
  },
  {
   "cell_type": "markdown",
   "metadata": {},
   "source": [
    "## fonction get_cand"
   ]
  },
  {
   "cell_type": "markdown",
   "metadata": {},
   "source": [
    "### Premiere fonction de création de candidats de taille k à partir de deux seq de taille k-1"
   ]
  },
  {
   "cell_type": "markdown",
   "metadata": {},
   "source": [
    "#### Version qui concatène les éléments en bout de séquence :"
   ]
  },
  {
   "cell_type": "code",
   "execution_count": 28,
   "metadata": {
    "collapsed": true
   },
   "outputs": [],
   "source": [
    "def generateCandidatesForPair(cand1, cand2):\n",
    "    cand1Clone = copy.deepcopy(cand1)\n",
    "    cand2Clone = copy.deepcopy(cand2)\n",
    "    # drop the leftmost item from cand1:\n",
    "    if (len (cand1[0]) == 1):\n",
    "        cand1Clone.pop(0)\n",
    "    else:\n",
    "        cand1Clone[0] = cand1Clone[0][1:]\n",
    "    # drop the rightmost item from cand2:\n",
    "    if (len (cand2[-1]) == 1):\n",
    "        cand2Clone.pop(-1)\n",
    "    else:\n",
    "        cand2Clone[-1] = cand2Clone[-1][:-1]\n",
    "    \n",
    "    # if the result is not the same, then we dont need to join\n",
    "    if not cand1Clone == cand2Clone:\n",
    "        return []\n",
    "    else:\n",
    "        newCandidate = copy.deepcopy(cand1)\n",
    "        if (len (cand2[-1]) == 1):\n",
    "            newCandidate.append(cand2[-1])\n",
    "        else:\n",
    "            newCandidate[-1].extend(cand2[-1][-1])\n",
    "        return newCandidate"
   ]
  },
  {
   "cell_type": "code",
   "execution_count": 29,
   "metadata": {
    "collapsed": true
   },
   "outputs": [],
   "source": [
    "def sequenceLength(sequence) : \n",
    "    return sum(len(seq) for seq in sequence)"
   ]
  },
  {
   "cell_type": "markdown",
   "metadata": {
    "collapsed": true
   },
   "source": [
    "#### on génère les candidats avec "
   ]
  },
  {
   "cell_type": "code",
   "execution_count": 30,
   "metadata": {
    "collapsed": true
   },
   "outputs": [],
   "source": [
    "def generateCandidates(lastLevelCandidates,focus_val):\n",
    "    k = sequenceLength(lastLevelCandidates[0]) + 1\n",
    "    if (k == 2):\n",
    "        flatShortCandidates = [item for sublist2 in lastLevelCandidates for sublist1 in sublist2 for item in sublist1]\n",
    "        candidates = [[[a, b]] for a in flatShortCandidates for b in flatShortCandidates if( b > a and (a in focus_val or b in focus_val))]\n",
    "    else:\n",
    "        candidates = []\n",
    "    for i in range(0, len(lastLevelCandidates)):\n",
    "        for j in range(0, len(lastLevelCandidates)):\n",
    "            newCand = generateCandidatesForPair(lastLevelCandidates[i], lastLevelCandidates[j])\n",
    "            if (not newCand == [] and (True in [ (i in t) for i in focus_val for t in newCand])):\n",
    "                candidates.append(newCand)\n",
    "    candidates.sort()\n",
    "    return candidates"
   ]
  },
  {
   "cell_type": "code",
   "execution_count": 31,
   "metadata": {},
   "outputs": [
    {
     "data": {
      "text/plain": [
       "[0, 0, 1, 2, 2, 4, 3, 6, 4, 8]"
      ]
     },
     "execution_count": 31,
     "metadata": {},
     "output_type": "execute_result"
    }
   ],
   "source": [
    "a = range(5)\n",
    "b = range(1,3)\n",
    "[i*j for i in a for j in b]"
   ]
  },
  {
   "cell_type": "code",
   "execution_count": 32,
   "metadata": {},
   "outputs": [
    {
     "name": "stdout",
     "output_type": "stream",
     "text": [
      "[[['a'], ['a']], [['a'], ['b']], [['a'], ['c']], [['a'], ['d']], [['a', 'b']], [['a', 'c']], [['a', 'd']], [['b'], ['a']], [['c'], ['a']], [['d'], ['a']]]\n"
     ]
    }
   ],
   "source": [
    "level_test = [[['a']],[['b']],[['c']],[['d']]]\n",
    "level_test_2 = generateCandidates(level_test,'a')\n",
    "print(level_test_2)"
   ]
  },
  {
   "cell_type": "code",
   "execution_count": 33,
   "metadata": {},
   "outputs": [
    {
     "data": {
      "text/plain": [
       "[[['a'], ['a'], ['a']],\n",
       " [['a'], ['a'], ['b']],\n",
       " [['a'], ['a'], ['c']],\n",
       " [['a'], ['a'], ['d']],\n",
       " [['a'], ['a', 'b']],\n",
       " [['a'], ['a', 'c']],\n",
       " [['a'], ['a', 'd']],\n",
       " [['a'], ['b'], ['a']],\n",
       " [['a'], ['c'], ['a']],\n",
       " [['a'], ['d'], ['a']],\n",
       " [['a', 'b'], ['a']],\n",
       " [['a', 'c'], ['a']],\n",
       " [['a', 'd'], ['a']],\n",
       " [['b'], ['a'], ['a']],\n",
       " [['b'], ['a'], ['b']],\n",
       " [['b'], ['a'], ['c']],\n",
       " [['b'], ['a'], ['d']],\n",
       " [['b'], ['a', 'b']],\n",
       " [['b'], ['a', 'c']],\n",
       " [['b'], ['a', 'd']],\n",
       " [['c'], ['a'], ['a']],\n",
       " [['c'], ['a'], ['b']],\n",
       " [['c'], ['a'], ['c']],\n",
       " [['c'], ['a'], ['d']],\n",
       " [['c'], ['a', 'b']],\n",
       " [['c'], ['a', 'c']],\n",
       " [['c'], ['a', 'd']],\n",
       " [['d'], ['a'], ['a']],\n",
       " [['d'], ['a'], ['b']],\n",
       " [['d'], ['a'], ['c']],\n",
       " [['d'], ['a'], ['d']],\n",
       " [['d'], ['a', 'b']],\n",
       " [['d'], ['a', 'c']],\n",
       " [['d'], ['a', 'd']]]"
      ]
     },
     "execution_count": 33,
     "metadata": {},
     "output_type": "execute_result"
    }
   ],
   "source": [
    "level_test_3 = generateCandidates(level_test_2,'a')\n",
    "level_test_3"
   ]
  },
  {
   "cell_type": "markdown",
   "metadata": {},
   "source": [
    "### Fonction de génération des sous-séquences"
   ]
  },
  {
   "cell_type": "code",
   "execution_count": 34,
   "metadata": {
    "collapsed": true
   },
   "outputs": [],
   "source": [
    "def generateDirectSubsequences(sequence):\n",
    "    result = []\n",
    "    for i, itemset in enumerate(sequence):\n",
    "        if (len(itemset) == 1):\n",
    "            sequenceClone = copy.deepcopy(sequence)\n",
    "            sequenceClone.pop(i)\n",
    "            result.append(sequenceClone)\n",
    "        else:\n",
    "            for j in range(len(itemset)):\n",
    "                sequenceClone = copy.deepcopy(sequence)\n",
    "                sequenceClone[i].pop(j)\n",
    "                result.append(sequenceClone)\n",
    "    return result"
   ]
  },
  {
   "cell_type": "markdown",
   "metadata": {},
   "source": [
    "## Algorithme Apriori àproprement parler :"
   ]
  },
  {
   "cell_type": "code",
   "execution_count": 35,
   "metadata": {
    "collapsed": true
   },
   "outputs": [],
   "source": [
    "def apriori(dataset, minSupport, focus_value, verbose=False, taillemin = 2,taillemax = 0):\n",
    "    if taillemax == 0 :\n",
    "        taillemax = taillemin+1\n",
    "    global numberOfCountingOperations\n",
    "    numberOfCountingOperations = 0\n",
    "    Overall = []\n",
    "    itemsInDataset = sorted(set ([item for sublist1 in dataset for sublist2 in sublist1 for item in sublist2]))\n",
    "    singleItemSequences = [[[item]] for item in itemsInDataset]\n",
    "    singleItemCounts = [(i, support(dataset, i)) for i in singleItemSequences if (support(dataset, i) >= minSupport)]\n",
    "    Overall.append(singleItemCounts)\n",
    "    #print(\"Result, lvl 1: \" + str(Overall[0]))\n",
    "    k = 1\n",
    "    while (True):\n",
    "        if not Overall [k - 1]:\n",
    "            break\n",
    "        # 1. Candidate generation\n",
    "        candidatesLastLevel = [x[0] for x in Overall[k - 1]]\n",
    "        candidatesGenerated = generateCandidates(candidatesLastLevel,focus_value)\n",
    "        candidatesCounts = [(i, support(dataset, i)) for i in candidatesGenerated]\n",
    "        resultLvl = [(i, count) for (i, count) in candidatesCounts if (count >= minSupport)]\n",
    "        if verbose:\n",
    "            print(\"Candidats générés au niveau \" + str(k + 1) + \": \" )\n",
    "            print(str(candidatesGenerated))\n",
    "            print( \"Resultat au niveau \" + str(k + 1) + \": \" )\n",
    "            print(str(resultLvl))\n",
    "        Overall.append(resultLvl)\n",
    "        k = k + 1\n",
    "    # \"flatten\" Overall\n",
    "    Overall = Overall [:-1]\n",
    "    Overall = [item for sublist in Overall for item in sublist]\n",
    "    Overall = sorted(Overall,key=itemgetter(1),reverse=True)\n",
    "    Overall = [i for i in Overall if (len(i[0])>=taillemin and len(i[0])<=taillemax)]\n",
    "    return Overall"
   ]
  },
  {
   "cell_type": "code",
   "execution_count": 36,
   "metadata": {},
   "outputs": [
    {
     "data": {
      "text/plain": [
       "[([['-1'], ['2'], ['1']], 23),\n",
       " ([['-1'], ['2'], ['-1']], 21),\n",
       " ([['1'], ['2'], ['1']], 20),\n",
       " ([['1'], ['2'], ['-1']], 19),\n",
       " ([['-2'], ['-2'], ['2']], 17),\n",
       " ([['1'], ['-2'], ['-1']], 17),\n",
       " ([['1'], ['-2'], ['1']], 17),\n",
       " ([['2'], ['2'], ['1']], 17),\n",
       " ([['-1'], ['2'], ['2']], 16),\n",
       " ([['1'], ['2'], ['2']], 16),\n",
       " ([['2'], ['2'], ['-1']], 16),\n",
       " ([['-1'], ['2'], ['0']], 15),\n",
       " ([['-2'], ['-2'], ['1']], 15),\n",
       " ([['1'], ['-2'], ['-2']], 15)]"
      ]
     },
     "execution_count": 36,
     "metadata": {},
     "output_type": "execute_result"
    }
   ],
   "source": [
    "res = apriori(test_seq,15,focus_value = ['-2','2'],taillemin=3,taillemax=3)\n",
    "res"
   ]
  },
  {
   "cell_type": "code",
   "execution_count": 37,
   "metadata": {
    "scrolled": true
   },
   "outputs": [
    {
     "name": "stdout",
     "output_type": "stream",
     "text": [
      "Séquences de taille 7 :\n",
      "[]\n",
      "Séquences de taille 9 :\n",
      "[([['3'], ['-1']], 15), ([['1'], ['3']], 12), ([['3'], ['1']], 12), ([['3'], ['U']], 12)]\n",
      "Séquences de taille 11 :\n",
      "[([['1'], ['3'], ['-1']], 12)]\n",
      "Séquences de taille 13 :\n",
      "[([['-1'], ['3'], ['-1']], 16), ([['U'], ['3'], ['-1']], 15), ([['-1'], ['3'], ['1']], 14), ([['1'], ['3'], ['1']], 14), ([['1'], ['3'], ['-1']], 13), ([['D'], ['3'], ['-1']], 13)]\n",
      "Séquences de taille 15 :\n",
      "[]\n",
      "Séquences de taille 17 :\n",
      "[([['3'], ['1'], ['3'], ['-1']], 12)]\n",
      "Séquences de taille 19 :\n",
      "[]\n",
      "Séquences de taille 21 :\n",
      "[]\n",
      "Séquences de taille 23 :\n",
      "[]\n",
      "Séquences de taille 25 :\n",
      "[([['-2'], ['-3'], ['3'], ['0'], ['3'], ['-1']], 13), ([['-1'], ['-3'], ['3'], ['0'], ['3'], ['-1']], 12), ([['-2'], ['-3'], ['-1'], ['3'], ['-1'], ['3']], 12), ([['-2'], ['-3'], ['3'], ['D'], ['3'], ['-1']], 12), ([['U'], ['-3'], ['3'], ['0'], ['3'], ['-1']], 12), ([['U'], ['-3'], ['3'], ['D'], ['3'], ['-1']], 12)]\n",
      "Séquences de taille 27 :\n",
      "[([['-2'], ['-3'], ['-1'], ['3'], ['-1'], ['3'], ['-1']], 12)]\n",
      "Séquences de taille 29 :\n",
      "[([['-2'], ['-3'], ['-1'], ['3'], ['-1'], ['3'], ['-1']], 12), ([['-2'], ['-3'], ['-1'], ['3'], ['-1'], ['3'], ['2']], 12), ([['-2'], ['-3'], ['-1'], ['3'], ['-1'], ['3'], ['U']], 12)]\n",
      "Séquences de taille 31 :\n",
      "[]\n"
     ]
    }
   ],
   "source": [
    "for i in range(3,16) :\n",
    "    print(\"Séquences de taille \"+str(2*i+1)+\" :\")\n",
    "    print(apriori(sequences(i,pa['variation'].tolist(),pa['buzz'].tolist()),12,focus_value = ['-3','3'],taillemin=i/2)[:6])"
   ]
  },
  {
   "cell_type": "markdown",
   "metadata": {},
   "source": [
    "# Fonction de recherche"
   ]
  },
  {
   "cell_type": "markdown",
   "metadata": {},
   "source": [
    "#### On a différents paramètres à faire varier : "
   ]
  },
  {
   "cell_type": "markdown",
   "metadata": {},
   "source": [
    "##### - Les epsilons servant à créer les événements de variation du prix. - Ceux servant à créer les événement de pics (ou chute) de la médiatisation. - La taille des séquences considérées. - La(les) valeur \"focus\" qui doit être présente dans la séquence. - Le support minimum des sous-séquences \"fréquentes\". - la taille minimale des sous-séquences fréquentes."
   ]
  },
  {
   "cell_type": "code",
   "execution_count": 38,
   "metadata": {
    "collapsed": true
   },
   "outputs": [],
   "source": [
    "#les eps_var (EN  POURCENTAGE) la variation nécessaires pour créer la var de changement de prix\n",
    "# ils prennent 2 à 3 paramètres\n",
    "#les eps_buzz sont la quantité de variation de l'indice des médiatisation \n",
    "#  (fourchette indicative des variations intéressantes : 0.05 - 0.3)\n",
    "# ils prennent 1 à 2 paramètres\n",
    "def recherche(eps_var,eps_buzz,support_min = 10,focus_value = ['-3','3'],nb_sorties=5):\n",
    "    buzz(*eps_buzz)\n",
    "    variation(*eps_var)\n",
    "    # pour s'aider dans le choix des paramètres, on affiche les jours correspondant aux valeurs focus :\n",
    "    print(pa[pa['variation'].isin(map(float,focus_value))])\n",
    "    for i in range(3,15) :\n",
    "        print(\"Séquences de taille \"+str(2*i+1)+\" :\")\n",
    "        print(apriori(sequences(i,pa['variation'].tolist(),pa['buzz'].tolist()),support_min,focus_value = focus_value,taillemin=min(i/2 -1))[:nb_sorties+1])\n",
    "        print()"
   ]
  },
  {
   "cell_type": "code",
   "execution_count": 39,
   "metadata": {
    "scrolled": false
   },
   "outputs": [
    {
     "name": "stdout",
     "output_type": "stream",
     "text": [
      "                open     close   Value buzz    ecart  variation\n",
      "Date                                                           \n",
      "2017-06-12   2973.45   2656.77  0.0857    c  -316.68         -3\n",
      "2017-07-15   2234.17   1975.08  0.0602    c  -259.09         -3\n",
      "2017-07-17   1914.09   2233.39  0.1000    c   319.30          3\n",
      "2017-07-20   2282.58   2866.02  0.1183    c   583.44          3\n",
      "2017-08-05   2878.49   3262.80  0.1212    c   384.31          3\n",
      "2017-09-14   3870.29   3243.08  0.2437    c  -627.21         -3\n",
      "2017-09-15   3243.08   3713.76  0.3436    U   470.68          3\n",
      "2017-09-18   3689.61   4100.28  0.2461    c   410.67          3\n",
      "2017-10-12   4824.20   5432.62  0.2775    c   608.42          3\n",
      "2017-11-13   5878.09   6522.45  0.2782    U   644.36          3\n",
      "2017-11-15   6597.06   7283.22  0.2073    c   686.16          3\n",
      "2017-12-06  11667.13  13749.57  0.5627    c  2082.44          3\n",
      "2017-12-07  13750.09  16850.31  0.9628    u  3100.22          3\n",
      "2017-12-11  15060.45  16732.47  1.2053    u  1672.02          3\n",
      "2017-12-22  15632.12  13664.97  1.0886    u -1967.15         -3\n",
      "2017-12-26  13830.19  15756.56  0.6942    U  1926.37          3\n",
      "2017-12-30  14392.14  12531.52  0.5004    D -1860.62         -3\n",
      "2017-12-31  12532.38  13850.40  0.4835    D  1318.02          3\n",
      "2018-01-05  15180.08  16954.78  0.4518    c  1774.70          3\n",
      "2018-01-11  14920.36  13308.06  0.7404    U -1612.30         -3\n",
      "2018-01-16  13634.60  11282.49  0.6968    U -2352.11         -3\n",
      "2018-01-20  11521.82  12783.94  0.3501    d  1262.12          3\n",
      "Séquences de taille 7 :\n"
     ]
    },
    {
     "ename": "TypeError",
     "evalue": "'float' object is not iterable",
     "output_type": "error",
     "traceback": [
      "\u001b[1;31m---------------------------------------------------------------------------\u001b[0m",
      "\u001b[1;31mTypeError\u001b[0m                                 Traceback (most recent call last)",
      "\u001b[1;32m<ipython-input-39-134e4b5167ac>\u001b[0m in \u001b[0;36m<module>\u001b[1;34m()\u001b[0m\n\u001b[1;32m----> 1\u001b[1;33m \u001b[0mrecherche\u001b[0m\u001b[1;33m(\u001b[0m\u001b[1;33m[\u001b[0m\u001b[1;36m0.005\u001b[0m\u001b[1;33m,\u001b[0m\u001b[1;36m0.05\u001b[0m\u001b[1;33m,\u001b[0m\u001b[1;36m0.1\u001b[0m\u001b[1;33m]\u001b[0m\u001b[1;33m,\u001b[0m\u001b[1;33m[\u001b[0m\u001b[1;36m0.07\u001b[0m\u001b[1;33m,\u001b[0m\u001b[1;36m0.2\u001b[0m\u001b[1;33m]\u001b[0m\u001b[1;33m)\u001b[0m\u001b[1;33m\u001b[0m\u001b[0m\n\u001b[0m",
      "\u001b[1;32m<ipython-input-38-5ba4b071ad89>\u001b[0m in \u001b[0;36mrecherche\u001b[1;34m(eps_var, eps_buzz, support_min, focus_value, nb_sorties)\u001b[0m\n\u001b[0;32m     11\u001b[0m     \u001b[1;32mfor\u001b[0m \u001b[0mi\u001b[0m \u001b[1;32min\u001b[0m \u001b[0mrange\u001b[0m\u001b[1;33m(\u001b[0m\u001b[1;36m3\u001b[0m\u001b[1;33m,\u001b[0m\u001b[1;36m15\u001b[0m\u001b[1;33m)\u001b[0m \u001b[1;33m:\u001b[0m\u001b[1;33m\u001b[0m\u001b[0m\n\u001b[0;32m     12\u001b[0m         \u001b[0mprint\u001b[0m\u001b[1;33m(\u001b[0m\u001b[1;34m\"Séquences de taille \"\u001b[0m\u001b[1;33m+\u001b[0m\u001b[0mstr\u001b[0m\u001b[1;33m(\u001b[0m\u001b[1;36m2\u001b[0m\u001b[1;33m*\u001b[0m\u001b[0mi\u001b[0m\u001b[1;33m+\u001b[0m\u001b[1;36m1\u001b[0m\u001b[1;33m)\u001b[0m\u001b[1;33m+\u001b[0m\u001b[1;34m\" :\"\u001b[0m\u001b[1;33m)\u001b[0m\u001b[1;33m\u001b[0m\u001b[0m\n\u001b[1;32m---> 13\u001b[1;33m         \u001b[0mprint\u001b[0m\u001b[1;33m(\u001b[0m\u001b[0mapriori\u001b[0m\u001b[1;33m(\u001b[0m\u001b[0msequences\u001b[0m\u001b[1;33m(\u001b[0m\u001b[0mi\u001b[0m\u001b[1;33m,\u001b[0m\u001b[0mpa\u001b[0m\u001b[1;33m[\u001b[0m\u001b[1;34m'variation'\u001b[0m\u001b[1;33m]\u001b[0m\u001b[1;33m.\u001b[0m\u001b[0mtolist\u001b[0m\u001b[1;33m(\u001b[0m\u001b[1;33m)\u001b[0m\u001b[1;33m,\u001b[0m\u001b[0mpa\u001b[0m\u001b[1;33m[\u001b[0m\u001b[1;34m'buzz'\u001b[0m\u001b[1;33m]\u001b[0m\u001b[1;33m.\u001b[0m\u001b[0mtolist\u001b[0m\u001b[1;33m(\u001b[0m\u001b[1;33m)\u001b[0m\u001b[1;33m)\u001b[0m\u001b[1;33m,\u001b[0m\u001b[0msupport_min\u001b[0m\u001b[1;33m,\u001b[0m\u001b[0mfocus_value\u001b[0m \u001b[1;33m=\u001b[0m \u001b[0mfocus_value\u001b[0m\u001b[1;33m,\u001b[0m\u001b[0mtaillemin\u001b[0m\u001b[1;33m=\u001b[0m\u001b[0mmin\u001b[0m\u001b[1;33m(\u001b[0m\u001b[0mi\u001b[0m\u001b[1;33m/\u001b[0m\u001b[1;36m2\u001b[0m \u001b[1;33m-\u001b[0m\u001b[1;36m1\u001b[0m\u001b[1;33m)\u001b[0m\u001b[1;33m)\u001b[0m\u001b[1;33m[\u001b[0m\u001b[1;33m:\u001b[0m\u001b[0mnb_sorties\u001b[0m\u001b[1;33m+\u001b[0m\u001b[1;36m1\u001b[0m\u001b[1;33m]\u001b[0m\u001b[1;33m)\u001b[0m\u001b[1;33m\u001b[0m\u001b[0m\n\u001b[0m\u001b[0;32m     14\u001b[0m         \u001b[0mprint\u001b[0m\u001b[1;33m(\u001b[0m\u001b[1;33m)\u001b[0m\u001b[1;33m\u001b[0m\u001b[0m\n",
      "\u001b[1;31mTypeError\u001b[0m: 'float' object is not iterable"
     ]
    }
   ],
   "source": [
    "recherche([0.005,0.05,0.1],[0.07,0.2])"
   ]
  }
 ],
 "metadata": {
  "kernelspec": {
   "display_name": "Python 3",
   "language": "python",
   "name": "python3"
  },
  "language_info": {
   "codemirror_mode": {
    "name": "ipython",
    "version": 3
   },
   "file_extension": ".py",
   "mimetype": "text/x-python",
   "name": "python",
   "nbconvert_exporter": "python",
   "pygments_lexer": "ipython3",
   "version": "3.6.3"
  }
 },
 "nbformat": 4,
 "nbformat_minor": 2
}
